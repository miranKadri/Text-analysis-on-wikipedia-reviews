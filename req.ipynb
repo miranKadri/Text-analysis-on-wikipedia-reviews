{
  "cells": [
    {
      "cell_type": "markdown",
      "metadata": {
        "id": "cbTEfPzoLB9z"
      },
      "source": [
        "TASK 1: GATHERING REVIEWS\n",
        "\n",
        "First we mount our Google drive to our Notebook.\n",
        "\n"
      ]
    },
    {
      "cell_type": "code",
      "execution_count": 16,
      "metadata": {
        "colab": {
          "base_uri": "https://localhost:8080/"
        },
        "id": "XxGp8xufLi_H",
        "outputId": "b6011d88-400c-4ec9-d655-835f3a93606f"
      },
      "outputs": [
        {
          "name": "stdout",
          "output_type": "stream",
          "text": [
            "Drive already mounted at /content/drive; to attempt to forcibly remount, call drive.mount(\"/content/drive\", force_remount=True).\n"
          ]
        }
      ],
      "source": [
        "from google.colab import drive\n",
        "drive.mount('/content/drive')"
      ]
    },
    {
      "cell_type": "markdown",
      "metadata": {
        "id": "ZBbz6RznLhSz"
      },
      "source": [
        "Here, the help of python's 'google-play-scraper' library is taken. First of all it is installed and then imported. And then the scraping is done for all the apps. As there are thousands of reviews for these apps, first 1000 reviews are being scraped from each app and they are stored in one csv file."
      ]
    },
    {
      "cell_type": "code",
      "execution_count": 17,
      "metadata": {
        "colab": {
          "base_uri": "https://localhost:8080/"
        },
        "id": "YhhUvPyjK0Uw",
        "outputId": "42866045-e006-4f22-de27-4bc19dab5eb3"
      },
      "outputs": [
        {
          "name": "stdout",
          "output_type": "stream",
          "text": [
            "Collecting google-play-scraper\n",
            "  Downloading google_play_scraper-1.2.4-py3-none-any.whl (28 kB)\n",
            "Installing collected packages: google-play-scraper\n",
            "Successfully installed google-play-scraper-1.2.4\n"
          ]
        }
      ],
      "source": [
        "!pip install google-play-scraper"
      ]
    },
    {
      "cell_type": "code",
      "execution_count": 28,
      "metadata": {
        "id": "dMJmlbupK3TM"
      },
      "outputs": [],
      "source": [
        "from google_play_scraper import Sort, reviews\n",
        "import csv\n",
        "import os\n",
        "\n",
        "# Function to scrape reviews and save to CSV\n",
        "def scrape_reviews_to_csv(app_id, file_name, max_reviews=1000):\n",
        "    result, _ = reviews(\n",
        "        app_id,\n",
        "        lang='en',\n",
        "        country='us',\n",
        "        sort=Sort.MOST_RELEVANT,\n",
        "        count=max_reviews,\n",
        "        filter_score_with=None\n",
        "    )\n",
        "\n",
        "    # Writing the reviews to the CSV file\n",
        "    with open(file_name, 'w', newline='', encoding='utf-8') as file:\n",
        "        writer = csv.writer(file)\n",
        "        writer.writerow(['Package Name', 'Reviewer Name', 'Review', 'Rating'])\n",
        "\n",
        "        for review in result:\n",
        "            writer.writerow([app_id, review['userName'], review['content'], review['score']])\n",
        "\n",
        "    print(f'Scraped {len(result)} reviews.')"
      ]
    },
    {
      "cell_type": "markdown",
      "metadata": {
        "id": "r-b-q926Lydk"
      },
      "source": [
        "The applications and their google play id is given below.\n",
        "\n",
        "Wikipedia = org.wikipedia\n",
        "Amazon Kindle = com.amazon.kindle\n",
        "Academia = com.academia.academia\n",
        "Medium = com.medium.reader\n",
        "Everand = com.scribd.app.reader0"
      ]
    },
    {
      "cell_type": "code",
      "execution_count": 29,
      "metadata": {
        "colab": {
          "base_uri": "https://localhost:8080/"
        },
        "id": "MrmOfQ82K53G",
        "outputId": "2407f8ef-f8fa-45ab-9617-df33166dc107"
      },
      "outputs": [
        {
          "name": "stdout",
          "output_type": "stream",
          "text": [
            "Scraped 1000 reviews.\n",
            "Scraped 1000 reviews.\n",
            "Scraped 1000 reviews.\n",
            "Scraped 1000 reviews.\n",
            "Scraped 1000 reviews.\n",
            "Merging and cleanup completed. Merged file stored at: /content/drive/My Drive/wikipedia_reviews.csv\n"
          ]
        }
      ],
      "source": [
        "file_paths = [\n",
        "    'wikipedia1_reviews.csv',\n",
        "    'wikipedia2_reviews.csv',\n",
        "    'wikipedia3_reviews.csv',\n",
        "    'wikipedia4_reviews.csv',\n",
        "    'wikipedia5_reviews.csv'\n",
        "]\n",
        "\n",
        "# Scraping and saving reviews\n",
        "scrape_reviews_to_csv('org.wikipedia', file_paths[0])\n",
        "scrape_reviews_to_csv('com.amazon.kindle', file_paths[1])\n",
        "scrape_reviews_to_csv('com.academia.academia', file_paths[2])\n",
        "scrape_reviews_to_csv('com.medium.reader', file_paths[3])\n",
        "scrape_reviews_to_csv('com.scribd.app.reader0', file_paths[4])\n",
        "\n",
        "# Reading all the CSV files and merging them\n",
        "merged_df = pd.concat([pd.read_csv(fp) for fp in file_paths])\n",
        "\n",
        "# Saving the merged file\n",
        "merged_file_path = 'wikipedia_reviews.csv'\n",
        "merged_df.to_csv(merged_file_path, index=False)\n",
        "\n",
        "# Deleting the original files\n",
        "for fp in file_paths:\n",
        "    os.remove(fp)\n",
        "\n",
        "print(\"Merging and cleanup completed. Merged file stored at:\", merged_file_path)"
      ]
    },
    {
      "cell_type": "markdown",
      "metadata": {
        "id": "wxlUCFFaY9ny"
      },
      "source": [
        "Task 2:PREPROCESS YOUR TEXT"
      ]
    },
    {
      "cell_type": "markdown",
      "metadata": {
        "id": "jYMim08XZkNO"
      },
      "source": [
        "Now, we install and import the required python libraries needed for this task."
      ]
    },
    {
      "cell_type": "code",
      "execution_count": 30,
      "metadata": {
        "colab": {
          "base_uri": "https://localhost:8080/"
        },
        "id": "iHUGsWmZjH_q",
        "outputId": "c7f6fd26-3eb3-4c54-89f7-18d3b3507116"
      },
      "outputs": [
        {
          "name": "stdout",
          "output_type": "stream",
          "text": [
            "Requirement already satisfied: nltk in /usr/local/lib/python3.10/dist-packages (3.8.1)\n",
            "Requirement already satisfied: inflect in /usr/local/lib/python3.10/dist-packages (7.0.0)\n",
            "Requirement already satisfied: click in /usr/local/lib/python3.10/dist-packages (from nltk) (8.1.7)\n",
            "Requirement already satisfied: joblib in /usr/local/lib/python3.10/dist-packages (from nltk) (1.3.2)\n",
            "Requirement already satisfied: regex>=2021.8.3 in /usr/local/lib/python3.10/dist-packages (from nltk) (2023.6.3)\n",
            "Requirement already satisfied: tqdm in /usr/local/lib/python3.10/dist-packages (from nltk) (4.66.1)\n",
            "Requirement already satisfied: pydantic>=1.9.1 in /usr/local/lib/python3.10/dist-packages (from inflect) (1.10.13)\n",
            "Requirement already satisfied: typing-extensions in /usr/local/lib/python3.10/dist-packages (from inflect) (4.5.0)\n"
          ]
        },
        {
          "name": "stderr",
          "output_type": "stream",
          "text": [
            "[nltk_data] Downloading package punkt to /root/nltk_data...\n",
            "[nltk_data]   Package punkt is already up-to-date!\n",
            "[nltk_data] Downloading package wordnet to /root/nltk_data...\n",
            "[nltk_data]   Package wordnet is already up-to-date!\n",
            "[nltk_data] Downloading package stopwords to /root/nltk_data...\n",
            "[nltk_data]   Package stopwords is already up-to-date!\n",
            "[nltk_data] Downloading package averaged_perceptron_tagger to\n",
            "[nltk_data]     /root/nltk_data...\n",
            "[nltk_data]   Package averaged_perceptron_tagger is already up-to-\n",
            "[nltk_data]       date!\n"
          ]
        }
      ],
      "source": [
        "!pip install nltk inflect\n",
        "\n",
        "import nltk\n",
        "nltk.download('punkt')\n",
        "nltk.download('wordnet')\n",
        "nltk.download('stopwords')\n",
        "nltk.download('averaged_perceptron_tagger')\n",
        "\n",
        "import string\n",
        "import inflect\n",
        "import nltk\n",
        "from nltk.corpus import stopwords\n",
        "from nltk.stem import WordNetLemmatizer\n",
        "from nltk.tokenize import word_tokenize\n",
        "import pandas as pd"
      ]
    },
    {
      "cell_type": "markdown",
      "metadata": {
        "id": "P0NffPQDaCwF"
      },
      "source": [
        "Now, we preprocess the reviews using these steps:\n",
        "I. Remove punctuations,\n",
        "II. Remove special characters and emojis,\n",
        "III. Turn numbers into text,\n",
        "IV. Remove extra white spaces,\n",
        "V. Turn all words into lowercase,\n",
        "VI. Remove stop words,\n",
        "VII. Lemmatize the reviews\n",
        "\n",
        "We also print a sample of 15 Pre-processed reviews outputted in the next console output."
      ]
    },
    {
      "cell_type": "code",
      "execution_count": 31,
      "metadata": {
        "colab": {
          "base_uri": "https://localhost:8080/"
        },
        "id": "_uLxjZYijf_-",
        "outputId": "ce2e58b7-ff07-4619-bf7e-49dcff956d44"
      },
      "outputs": [
        {
          "name": "stdout",
          "output_type": "stream",
          "text": [
            "First 15 Preprocessed Reviews:\n"
          ]
        },
        {
          "data": {
            "text/plain": [
              "['even frequent user wikipedia totally unaware existence app discovering searched whim app overall excellent random article button offer dangerous game play plan productive ability easily curate personal collection article nice gripe far apparent lack return main page button fall rabbit hole ready click back button lot',\n",
              " 'offline usage sd storage great interface one annoying flaw incredibly easy accidentally delete offline page several occasion attempted tap article ever slightly swiped little side time deletes page dosent ask confirmation rather remove page blink eye although allow undo page downloaded',\n",
              " 'better update made clumsy difficulttonavigate word developer text run right rightside border leftright movement im constantly sliding apps page left read end sentence looking like wellcrafted new tabbing yuk somewhat poor term usability ive seen guy better know im donor maybe give listen',\n",
              " 'truly love wikipedia app suddenly crowned feature place tab missing version feature placed nearby article interactive map helped navigate new city turned world museum loved necessary cant life figure itd removed light lost life hence dim star rating itd five star without suffering',\n",
              " 'edit issue longer happening app run great app usually fantastic ill happily increase rating five recent issue resolved since recent update app repeatedly say isnt responding working fine wont stop quit even go home screen open another program error message keep coming',\n",
              " 'app great offer far superior experience browsing wikipedia mobile browser two small ui improvement needed one scrolling table left unintentionally trigger rightside page content gesture make annoying navigate wide table two app closed least one tab open reopened start screen load first tab unless touch tab counter button tab lost',\n",
              " 'great well made app probably favorite app phone right create reading list different subject available offline furthermore reading article clicking highlighted word give summary overlay popup doesnt pull away current article however go full article desire app wikipedia general one silver lining attrocious noise internet apps become',\n",
              " 'im basing rating wikipedias political bias annoying new search actually open new page instead replacing current one im deleting app doesnt support find page viewing make web browser much useful app adding function editing code already implemented force viewer scan whole article',\n",
              " 'newest version may two thousand nineteen practically unusable highly frequent crashing particularly trying save article reading list force app restart end losing reading annoying especially considering hadnt experienced issue older version please fix app otherwise fantastic one issue ruin whole experience',\n",
              " 'uninstalled article image embedded image tinted slightly grey make image look lowquality downgrade whole experience click image see full color take whole screen cant read second issue clicking link wiki article browser wiki app open redirects different article cache issue maybe rather deal hassle uninstalled browserbased wiki ftw',\n",
              " 'convenient website use lot bandwidth lot little thing get broken update like open tab link external web page audio sample stay broken reason might rate app much lower doesnt bother much',\n",
              " 'really like app lot wish however convenient button reloading page without losing place scroll way back english wave function page seems broken doesnt load way show full article language english reason',\n",
              " 'favorite app far use wikipedia mobile app perhaps second browser suggestion add way search list dialog many scroll quite bit find right one sometimes itd also nice possible access list menu explorenew tab page',\n",
              " 'mobile device find app interface convenient pleasant use mobile web site ive two frustration first app occasionally report internet connectivity lost even though hasnt second every time restart device login credential wikipedia deleted device app recommends login ive able determine whether o issue app issue',\n",
              " 'edit image wont load several day care changed rating one previous review use app every day keep making illadvised change ui nobody need smoothscrolling findinpage zoom awkwardly youre typing also table content swiping right fine way sensitivei keep swiping toc accident scrolling vertically slightly moving righttoleft']"
            ]
          },
          "execution_count": 31,
          "metadata": {},
          "output_type": "execute_result"
        }
      ],
      "source": [
        "# Reviews loaded from CSV file in Google Drive\n",
        "file_path = '/content/drive/My Drive/wikipedia_reviews.csv'\n",
        "df = pd.read_csv(file_path)\n",
        "reviews = df['Review'].tolist()\n",
        "\n",
        "# Function to remove punctuation\n",
        "def remove_punctuation(text):\n",
        "    return text.translate(str.maketrans('', '', string.punctuation))\n",
        "\n",
        "# Function to convert numbers to words\n",
        "def convert_numbers_to_words(text):\n",
        "    p = inflect.engine()\n",
        "    new_text = []\n",
        "    for word in text.split():\n",
        "        if word.isdigit():\n",
        "            new_word = p.number_to_words(word)\n",
        "            new_text.append(new_word)\n",
        "        else:\n",
        "            new_text.append(word)\n",
        "    return ' '.join(new_text)\n",
        "\n",
        "# Function to remove extra whitespace\n",
        "def remove_extra_whitespace(text):\n",
        "    return \" \".join(text.split())\n",
        "\n",
        "# Function to remove stopwords\n",
        "def remove_stopwords(text):\n",
        "    stop_words = set(stopwords.words('english'))\n",
        "    word_tokens = word_tokenize(text)\n",
        "    filtered_text = [word for word in word_tokens if word not in stop_words]\n",
        "    return ' '.join(filtered_text)\n",
        "\n",
        "# Function to lemmatize text\n",
        "def lemmatize_text(text):\n",
        "    lemmatizer = WordNetLemmatizer()\n",
        "    word_tokens = word_tokenize(text)\n",
        "    lemmatized_text = [lemmatizer.lemmatize(word) for word in word_tokens]\n",
        "    return ' '.join(lemmatized_text)\n",
        "\n",
        "# Function to preprocess review text\n",
        "def preprocess_text(text):\n",
        "    text = remove_punctuation(text)\n",
        "    text = text.encode('ascii', 'ignore').decode() # This removes special characters and emojis\n",
        "    text = convert_numbers_to_words(text)\n",
        "    text = text.lower()\n",
        "    text = remove_extra_whitespace(text)\n",
        "    text = remove_stopwords(text)\n",
        "    text = lemmatize_text(text)\n",
        "    return text\n",
        "\n",
        "# Preprocess reviews\n",
        "preprocessed_reviews = [preprocess_text(review) for review in reviews]\n",
        "\n",
        "# Display the first 15 preprocessed reviews\n",
        "print('First 15 Preprocessed Reviews:')\n",
        "preprocessed_reviews[:15]\n"
      ]
    },
    {
      "cell_type": "markdown",
      "metadata": {
        "id": "DxmFta3BbpD5"
      },
      "source": [
        "Task 3: SENTIMENT ANALYSIS\n",
        "\n",
        "First Textblob and VaderSentiment libraries are installed."
      ]
    },
    {
      "cell_type": "code",
      "execution_count": 32,
      "metadata": {
        "colab": {
          "base_uri": "https://localhost:8080/"
        },
        "id": "TPqWGXtw3Hew",
        "outputId": "ee69218f-2b1b-421e-b96f-aaf5218864c9"
      },
      "outputs": [
        {
          "name": "stdout",
          "output_type": "stream",
          "text": [
            "Requirement already satisfied: textblob in /usr/local/lib/python3.10/dist-packages (0.17.1)\n",
            "Requirement already satisfied: nltk>=3.1 in /usr/local/lib/python3.10/dist-packages (from textblob) (3.8.1)\n",
            "Requirement already satisfied: click in /usr/local/lib/python3.10/dist-packages (from nltk>=3.1->textblob) (8.1.7)\n",
            "Requirement already satisfied: joblib in /usr/local/lib/python3.10/dist-packages (from nltk>=3.1->textblob) (1.3.2)\n",
            "Requirement already satisfied: regex>=2021.8.3 in /usr/local/lib/python3.10/dist-packages (from nltk>=3.1->textblob) (2023.6.3)\n",
            "Requirement already satisfied: tqdm in /usr/local/lib/python3.10/dist-packages (from nltk>=3.1->textblob) (4.66.1)\n",
            "Requirement already satisfied: vaderSentiment in /usr/local/lib/python3.10/dist-packages (3.3.2)\n",
            "Requirement already satisfied: requests in /usr/local/lib/python3.10/dist-packages (from vaderSentiment) (2.31.0)\n",
            "Requirement already satisfied: charset-normalizer<4,>=2 in /usr/local/lib/python3.10/dist-packages (from requests->vaderSentiment) (3.3.2)\n",
            "Requirement already satisfied: idna<4,>=2.5 in /usr/local/lib/python3.10/dist-packages (from requests->vaderSentiment) (3.6)\n",
            "Requirement already satisfied: urllib3<3,>=1.21.1 in /usr/local/lib/python3.10/dist-packages (from requests->vaderSentiment) (2.0.7)\n",
            "Requirement already satisfied: certifi>=2017.4.17 in /usr/local/lib/python3.10/dist-packages (from requests->vaderSentiment) (2023.11.17)\n"
          ]
        }
      ],
      "source": [
        "!pip install textblob\n",
        "!pip install vaderSentiment"
      ]
    },
    {
      "cell_type": "markdown",
      "metadata": {
        "id": "dgfw4iX18zdA"
      },
      "source": [
        "Then we import Textblob and VaderSentiment libraries."
      ]
    },
    {
      "cell_type": "code",
      "execution_count": 33,
      "metadata": {
        "id": "S3Qr706A3NPl"
      },
      "outputs": [],
      "source": [
        "from vaderSentiment.vaderSentiment import SentimentIntensityAnalyzer\n",
        "from textblob import TextBlob"
      ]
    },
    {
      "cell_type": "markdown",
      "metadata": {
        "id": "adNO-oib9Fz_"
      },
      "source": [
        "Textblob reviews sentiment analysis is done at first and the sameple output of 250 reviews is printed here.\n"
      ]
    },
    {
      "cell_type": "code",
      "execution_count": 34,
      "metadata": {
        "colab": {
          "base_uri": "https://localhost:8080/"
        },
        "id": "QaIXytfTlLhz",
        "outputId": "eb93b8d3-4957-4fcd-c4de-fa6409c8a0dd"
      },
      "outputs": [
        {
          "name": "stdout",
          "output_type": "stream",
          "text": [
            "TextBlob Sentiments:\n",
            "      Package Name                                                                                                                                                                                                                                                                                                                                                                                                                                    Review  Polarity\n",
            "0    org.wikipedia                                                                                                            even frequent user wikipedia totally unaware existence app discovering searched whim app overall excellent random article button offer dangerous game play plan productive ability easily curate personal collection article nice gripe far apparent lack return main page button fall rabbit hole ready click back button lot  0.076667\n",
            "1    org.wikipedia                                                                                                                                            offline usage sd storage great interface one annoying flaw incredibly easy accidentally delete offline page several occasion attempted tap article ever slightly swiped little side time deletes page dosent ask confirmation rather remove page blink eye although allow undo page downloaded  0.013194\n",
            "2    org.wikipedia                                                                                                                                          better update made clumsy difficulttonavigate word developer text run right rightside border leftright movement im constantly sliding apps page left read end sentence looking like wellcrafted new tabbing yuk somewhat poor term usability ive seen guy better know im donor maybe give listen  0.090260\n",
            "3    org.wikipedia                                                                                                                                                 truly love wikipedia app suddenly crowned feature place tab missing version feature placed nearby article interactive map helped navigate new city turned world museum loved necessary cant life figure itd removed light lost life hence dim star rating itd five star without suffering  0.204545\n",
            "4    org.wikipedia                                                                                                                                                              edit issue longer happening app run great app usually fantastic ill happily increase rating five recent issue resolved since recent update app repeatedly say isnt responding working fine wont stop quit even go home screen open another program error message keep coming  0.239583\n",
            "5    org.wikipedia                                                                                               app great offer far superior experience browsing wikipedia mobile browser two small ui improvement needed one scrolling table left unintentionally trigger rightside page content gesture make annoying navigate wide table two app closed least one tab open reopened start screen load first tab unless touch tab counter button tab lost  0.027273\n",
            "6    org.wikipedia                                                                                              great well made app probably favorite app phone right create reading list different subject available offline furthermore reading article clicking highlighted word give summary overlay popup doesnt pull away current article however go full article desire app wikipedia general one silver lining attrocious noise internet apps become  0.246561\n",
            "7    org.wikipedia                                                                                                                                                    im basing rating wikipedias political bias annoying new search actually open new page instead replacing current one im deleting app doesnt support find page viewing make web browser much useful app adding function editing code already implemented force viewer scan whole article -0.003409\n",
            "8    org.wikipedia                                                                                                                        newest version may two thousand nineteen practically unusable highly frequent crashing particularly trying save article reading list force app restart end losing reading annoying especially considering hadnt experienced issue older version please fix app otherwise fantastic one issue ruin whole experience  0.129167\n",
            "9    org.wikipedia                                                                                               uninstalled article image embedded image tinted slightly grey make image look lowquality downgrade whole experience click image see full color take whole screen cant read second issue clicking link wiki article browser wiki app open redirects different article cache issue maybe rather deal hassle uninstalled browserbased wiki ftw  0.100000\n",
            "10   org.wikipedia                                                                                                                                                                                                                                                 convenient website use lot bandwidth lot little thing get broken update like open tab link external web page audio sample stay broken reason might rate app much lower doesnt bother much -0.083929\n",
            "11   org.wikipedia                                                                                                                                                                                                                                  really like app lot wish however convenient button reloading page without losing place scroll way back english wave function page seems broken doesnt load way show full article language english reason  0.025000\n",
            "12   org.wikipedia                                                                                                                                                                                                                         favorite app far use wikipedia mobile app perhaps second browser suggestion add way search list dialog many scroll quite bit find right one sometimes itd also nice possible access list menu explorenew tab page  0.283673\n",
            "13   org.wikipedia                                                                                                                      mobile device find app interface convenient pleasant use mobile web site ive two frustration first app occasionally report internet connectivity lost even though hasnt second every time restart device login credential wikipedia deleted device app recommends login ive able determine whether o issue app issue  0.296667\n",
            "14   org.wikipedia                                                                                                            edit image wont load several day care changed rating one previous review use app every day keep making illadvised change ui nobody need smoothscrolling findinpage zoom awkwardly youre typing also table content swiping right fine way sensitivei keep swiping toc accident scrolling vertically slightly moving righttoleft -0.038492\n",
            "15   org.wikipedia                                                                                                                                                                   nearby feature removed last update favorite part app made worth using normal web browser despite seemingly longer great feature app well made versatile ui look function like able tap link seeing short overview without taken page getting choose multiple theme nice  0.316667\n",
            "16   org.wikipedia                                                                                                                        intuitive app built usability mind guy nailed tab feature table content button fast scroll showing toc index much dark theme also important one suggestion id love see wiktionary implemented dont leave app would great could click wiktionary link treated wiki page open new tab preview etc anyways great work  0.335795\n",
            "17   org.wikipedia                                                                                                                                                                         serious usability issue main problem way table rendered small screen theyre difficult scroll horizontally row sorted column also editing article app trash edits without warning browser app load another article finally inability pinch zoom image drive banana -0.183333\n",
            "18   org.wikipedia                                                                                                                                  used wonderful application became le le functional finally longer function device began would load image uninstall reinstall fixed would longer load full sized image never could fix finally longer load anything uninstalling reinstalling longer fix four device use ever get error occurred ever fix  0.290000\n",
            "19   org.wikipedia                                                                                                   great viewing experience using app find user setting allowed desktop almost either broken next impossible find one particular issue found would save none setting specialpreferences area would allow publish commonjs file ive clue stem issue app wikipedia backend service phone incompetence part app fully updated let know please -0.020000\n",
            "20   org.wikipedia                                                                                                      truly liked wikipedia app two thousand twelve back came new app wikipedia uninstalled app used browser two thousand twenty-two gave new wiki app try last year easy use old one also saving article save offline automatically non bookmark many step access saved page fiddly ask wiki check old app bring back way ease feel thanx  0.200606\n",
            "21   org.wikipedia                                                                                                    always loved wikipedia child glad fingertip edit last year two thousand twenty-two sent email wikipedia requesting create wikipedia account phone ip blocked im pleasantly surprised swift response wikipedia team admitting editor ive editor past one year ivee edited flaw article bothered long sorry late update review five star  0.025000\n",
            "22   org.wikipedia                                                                                                                                                                                                                                                                                                  mint save feature excellent customisation setting actually simple would nice let u use vpn actually able edit page instead disconnecting  0.525000\n",
            "23   org.wikipedia                                                                                                                                                                                                                                                                                         love wikipedia donated money reading list sync even work seems like open every article one one get sync offline save data like read article plane  0.250000\n",
            "24   org.wikipedia                                                                                                                                                                                                                                                                                                                                                                          bug blank page almost fixed text article still disappearing case  0.050000\n",
            "25   org.wikipedia                                                                                                                                                                                                                                                                                                  like app problem sometimes look short simple question anything written certain thing otherwise think app pretty good app would recommend  0.232857\n",
            "26   org.wikipedia                                                                                                                                                                                                                                                                                                                           stopped working normally last update uninstallreinstall rectify mobile app becoming dumbed version website imho  0.225000\n",
            "27   org.wikipedia                                                                                                                                                                                                                                                      one truly great success story application computer done benefit mankind side greedy monopolistic purveyor social medium like zucky musk everybody donate least dollar use every year  0.208333\n",
            "28   org.wikipedia                                                                                                                          everything fine really liked ui one thing cant zoom picture shown article without automatically go side wonder device app really would helpful problem fixed another talk page called talk page discussion page make mind unused design experience bringing mind talk page without feeling dizzy way titled talk  0.329167\n",
            "29   org.wikipedia                                                                                                                                                   great although take time getting used good feature fingertip however whole layout skeletal press hold link select open new tab open another window click link select open new tab show new window underneath current one whats point divide tab opened one top order better distinguish  0.259091\n",
            "30   org.wikipedia                                                                                                                                                                                                                                                                                                                 imho best app app use every day wealth information phenomenal appreciate ad gladly make donation keep good work wikipedia  0.675000\n",
            "31   org.wikipedia                                                                                                                                                                                                                                                                                                                                           free creative common license good interface dont even present login interface trying edit slick  0.175000\n",
            "32   org.wikipedia                                                                                                                                                                                                 ive enjoyed supported wikipedia year however due wikipedias manipulation andrew hubermans article nolonger contributing wikipedia grateful wikipedia content provided im much grateful andrew huberman provided world dont condone action  0.168750\n",
            "33   org.wikipedia                                                                                                                                                                                                                                                                                                                  app unique anyone satisfied throughout app feature allows reader read article offline categorizing feature make pleasant  0.536111\n",
            "34   org.wikipedia                                                                                                                                                                                                                                                                                                                           everything pretty good bit advice kid mode parental control feature best learning making school college project  0.650000\n",
            "35   org.wikipedia                                                                                                                                                                                                                                                                            please provide home button app many click get home currently edit ninety-two thousand twenty-three reducing star hope getting attention difficult get home app  0.000000\n",
            "36   org.wikipedia                                                                                                                                                                                                                                                                                                                  complex obscure compared plain browser abrupt rapid font size changer trying edit visual v wikitext choice viewing diffs -0.159821\n",
            "37   org.wikipedia                                                                                                                                                                                                                                                                                                                                                                         prefer app web page wikipedia great job perfectly really easy use  0.616667\n",
            "38   org.wikipedia                                                                                                                                                                                                     wikipedia awesome app easy use open whole wide world discovery curious mind simply mindblowing many piece knowledge written wikipedia article use app learn heart content feature previously lost restored thank wikimedia foundation  0.196296\n",
            "39   org.wikipedia                                                                                                                                                                                                                                                                           update longer able see link preview landscape mode preview tab behind open new tab read article bar 2mm showing unable pull higher read work fine portrait mode  0.057576\n",
            "40   org.wikipedia                                                                                thanks answer website legendary app still bug bottom bar restricted five icon even tablet list saved list doesnt autoexpand landscape little font width lineheight customization image dimming work backwards dim clicked launching link buggy automatically close tab opened link switch back app later may reopen last link clicked even youd closed tab  0.126562\n",
            "41   org.wikipedia                                                                                                                                                                                                                    app unique web thing need update desktop software use wikipedia desktop application improve chromesandroid wikipedia website finally tab switch feature mobile aplication fast experience wiki app builtin highlighter  0.191667\n",
            "42   org.wikipedia                                                                                                                                                                                                                                                                             popup bottom screen follows clicking blue highlight article display correctly landscape mode tablet work portrait mode frustrating occurred since last update -0.133333\n",
            "43   org.wikipedia                                                                                                                                                                                                                                                                                           using app past six year overall app amazing term reader friendly however editor app feature importantly option creating new page visual editing  0.180195\n",
            "44   org.wikipedia                                                                                                                                                                                                       love app daily article photo keep opening every day im trying quell social medium addiction opening app first thing morning love bookmark interesting article love change background color soothing eye perfect app amazing website  0.431481\n",
            "45   org.wikipedia                                                                                                   got project school research chandrayan one chandrayan two chandrayan three application hope give u indepth knowledge particular topic loved concept theme cant use light theme extended period switch dark mode impressive word confusing would double click definition finger definitely useful application download thankyou much app  0.257407\n",
            "46   org.wikipedia                                                                                                                                                            impressive becaus sheer number topic cover short general summary sort person place thing historical event enough pique interest get headed library detailed research article lean heavily left wise internet user use goodquality vpn wikipedia prevents edits user vpn turned  0.238889\n",
            "47   org.wikipedia                                                                                                                                                                                                                                                                                                                                                           loading good moto g5g dont understand every phone ive ever apps load except one  0.700000\n",
            "48   org.wikipedia                                                                                                                                                                                                                                                                                                                                                          app amazing installing app read one recommendation would better widget developed  0.400000\n",
            "49   org.wikipedia                                                                                                                                                                                                                                                                                                                                                         enjoy dictionary fingertip ai beta test exciting experience thank mr mr microsoft  0.350000\n",
            "50   org.wikipedia                                                                                                                                                                                                                    wow love app much better scrolling ig way change layout information amazing recommendation id make check box indicate youve seen item every day look ever module information catch rereading section itd nice hide day  0.460000\n",
            "51   org.wikipedia                                                                                                                                                                                                                                                                                                                                                                        wikipedia good website improve thing read account highly recommend  0.430000\n",
            "52   org.wikipedia                                                                                                                                                                            wikipedia application stand unequivocal paragon function paramount reservoir veracious enlightenment across expansive spectrum subject accessibility dependability perpetual enhancement render imperative instrument individual insatiable appetite erudition -0.083333\n",
            "53   org.wikipedia                                                                                                                                                                                                                                                                                                                                     three star downloaded topic doesnt open without internet saved section whats point saving cant access  0.000000\n",
            "54   org.wikipedia                                                                                                                                                                                                                                                                                                                                                                 zero problem using app nothing top decent functional stable wikipedia app  0.333333\n",
            "55   org.wikipedia                                                                                                                                                                                                                                                                        ive always liked wikipedia check something learn new thing subject im interested app made easier going browser time great always check source youre reading though  0.323939\n",
            "56   org.wikipedia                                                                                                                                                                                                                                                                                                                                                                         wikipedia one favourite learning platformsits best thank lot wiki  1.000000\n",
            "57   org.wikipedia                                                                                                                                                                                                                                                               edit workaround seems must first load saved article online saved article read offline even apps cache cleared longer read downloaded article offline please fix immediately  0.250000\n",
            "58   org.wikipedia                                                                                                                                           app greatest intuitive straightforward lite productive technical problem make unusable problem try turn darkblack reading mode night mode white layer appears text article making unreadable end article element appear rendered correctly order problem local guess couldnt find solution help  0.275000\n",
            "59   org.wikipedia                                                                                                                                             nice id liked option randomly pick article within subject example want read invertebrate mammal dog option randomly pick article nested would nice offline capability good tab history great navigation bit awkward category appears unrelated current article seems content outline list top  0.184848\n",
            "60   org.wikipedia                                                                                     wikipedia app become truly mobile encyclopedia reading experience excellent text size adjusted color presets day night longtime reading available image table correctly positioned displayed clicking image take gallery view read image caption article clicking link show abstract article allowing user understand better main article thank three  0.516667\n",
            "61   org.wikipedia                                                                                                                                                                                                  app crucial use wikipedia content made good throughout year sorely miss ability copy link current view page section doesnt seem specific feature sharing button lack usual copy link option apps im looking forward simple feature added  0.075000\n",
            "62   org.wikipedia                                                                                                                                                                                                    good app please give u option stop redirecting app browser would also nice automatic commonly used wikitexts editing screen would constantly look also stop tab opening every article kind annoying hundred tab open finishing session  0.114286\n",
            "63   org.wikipedia                                                                                                                                                                                                                                                                                                                           dont beautiful widget like io android show special day etc available io android old outdated one discrimination  0.261429\n",
            "64   org.wikipedia                                                                                                                                                                                                                                                                                                                              imagine life would like without great app ive donated several time worth im constantly using thank wikipedia  0.275000\n",
            "65   org.wikipedia                                                                                                                                                                                                                                                                                                                                                                           good appjust got double check proof read text make sure correct  0.400000\n",
            "66   org.wikipedia                                                                                                                               useful application several reason frequent issue regarding downloading keeping content design element seem lacking cleverness style otherwise good functional handy beautiful application besides improving lacking area wide spanning application lot room improvement always eager see improvement update  0.350000\n",
            "67   org.wikipedia                                                                                                                                                                                         wikipedia app much excellent app make browsing wikipedia easier ever integrated tab well cool feature let preview linked article without leaving one youre reading make worthwhile app anyone like read learn app designed careful attention show  0.437500\n",
            "68   org.wikipedia                                                                                                                                                                                                                                                                                                                                                                                  like trip biggest window world without leaving easychair  0.000000\n",
            "69   org.wikipedia                                                                                                                               could never make synch reading list original device saved device changed phone gone shame spent much time collecting article fact access reading list normal browser little bit ridiculoussorry wikipedia love general app need improvement would love able continue use effectively across platform device  0.258750\n",
            "70   org.wikipedia                                                                                                                                        wikipedia definitely best source information love web version many issue app firstly app version section already expanded unlike web version section collapsed expand per need make inconvenient use also issue operating dark mode data isnt visible summary section top many page need fix issue  0.312500\n",
            "71   org.wikipedia                                                                                                                                                                      surprised truly amazing ui perfectly sync google design language also impressive range available option however cant visit talk page see watchlist etc would really like interesting article nearby tab could customised show feed feature added rating go five star  0.542857\n",
            "72   org.wikipedia                                                                                                                                                                                                        five star many bug latest version twenty million , two hundred one thousand twenty-nine corrected pleasure browse working though ive tested several device loading animation endless first paragraph missing also hard get history  0.090476\n",
            "73   org.wikipedia                                                                                                                                                                                                                                                                                                                                                                 please add option topi page auto collapsed option collapse expand holding  0.000000\n",
            "74   org.wikipedia                                                                                                                                                                                                                                                                                                                                          firstly love wikipedia fact much knowledge free make smile secondly great app using morning read  0.440000\n",
            "75   org.wikipedia                                                                                                                                                                                                                                                                                                                                                                          wikipedia large versatile source material appreciate depth scope  0.214286\n",
            "76   org.wikipedia                                                                                                                                                                                                                                                            wikipedia bad app writing one showing write number population punjab last ten year find mean highest lowest range ad showing alexandre great rescal app nonsense app idiot app -0.168750\n",
            "77   org.wikipedia                                                                                                                                                                                                                                                                                                                                                                                       get lost hour researching stuff enjoy wikipedia lot  0.400000\n",
            "78   org.wikipedia                                                                                                                                                                                                                                                                                                                                                                                     awesome excellent knowledge wikipedia app every thing  1.000000\n",
            "79   org.wikipedia                                                                                                                                                                                                                                                                                                                                                                    really enjoy using application deep information globally find platform  0.133333\n",
            "80   org.wikipedia                                                                                                                                                                                                                                                                                                                                                            ive always loved library bible study help wikipedia excellent material student  0.850000\n",
            "81   org.wikipedia                                                                                                                                                                                               good app reading wikipedia content trying open full version history web page app break presumably try open page chrome chrome redirects call directly wikipedia app easy fix three star even workaround access relevant version history way  0.283333\n",
            "82   org.wikipedia                                                                                                                                                                                                                                                                                                                      garbage left wing biased b really show page right wing politician totally done plus fact never right anything hardly  0.008532\n",
            "83   org.wikipedia                                                                                           app done great job modifying wikipedia website way usage mobile clear uncluttered small screen also different website experience throw longterm user feature editing peeking link executed make use native mobile feature therefore clear predictable meanwhile app even implemented feature desktop browser searching make complete experience  0.092857\n",
            "84   org.wikipedia                                                                                                                                                                                                                                                                                                                                                          helpful app would helpful voice reader listen offline saved article engaged task  0.000000\n",
            "85   org.wikipedia                                                                                                                                                                                                                                                                                                                            image show normal brightness tapping enlarge actually go darker preview really counter intuitive bad ux design -0.087500\n",
            "86   org.wikipedia                                                                                                                                                                                                         ever since downloaded wiki app absolutely impressed found app feel dont need pc died time ago use wiki cell read many review positive negative ive experienced negative issue whiner cry must iphone user five flippity star folk  0.321212\n",
            "87   org.wikipedia                                                                                                                                                                                                                                                                                                                                                  decent app there prominent save page button screen absolutely way access saved page even  0.288889\n",
            "88   org.wikipedia                                                                                                                                                                                                                                                                       app bug article couldnt display properly said error occured due network error weird even though device connected internet wherease wikipedia browser affected error -0.208333\n",
            "89   org.wikipedia                                                                                                                                                                                                                                                                                               app good there glitch whenever sign gmail account use mobile app keep redirecting play store saying need updating way malfunction corrected  0.700000\n",
            "90   org.wikipedia                                                                                                                                                                                                                                        surely donate start earning vow cant describe much knowledge gained platform keeping amazing thing ad free accessible truly need appreciation grateful devs course people making wikipedia refined  0.415000\n",
            "91   org.wikipedia                                                                                                                                                                                                                                                                                                  hardly believe im reviewing wikipedia sum one greatest development last two century donate ten month least four order magnitude valuable  0.081667\n",
            "92   org.wikipedia                                                                                                                                                                          little circle right pull content extremely inconvenient scrolling others pointed many u end dragging swiping one handedly option move left screen might solve issue also since around month ago app automatically dims image dark mode even image dimming turned -0.025298\n",
            "93   org.wikipedia                                                                                                                                                                                                                                                                                                                                                    article doesnt load anymore deleted app reinstalled still article cant opened language  0.000000\n",
            "94   org.wikipedia                                                                                                                                                                                                                                         cant video like facebook instagram twitter uploaded viewed wikipedia app video uploaded wikipedia user base increase also app probably downloaded one billion time im using useful app bangladesh -0.250000\n",
            "95   org.wikipedia                                                                                                                                                                             obviously love wikipedia doesnt fan redesign latest update visually look appealing overall slide menu longer animation slid away tapped result part experience feel much le natural know longer actually slide menu left swipe right open menu tap left close  0.171429\n",
            "96   org.wikipedia                                                                                                                                                                                                                                                                                                                                                                                                    recent browser link longer opening app  0.000000\n",
            "97   org.wikipedia                                                                                                                            app overall friendly interface although several problem well editor cant add article description reason whenever try add one description doesnt display immediately wait several day confirm suspicion description added displayed mention page take load compared open browser pretty much hassle please look  0.117857\n",
            "98   org.wikipedia                                                                                                                                                                                                                                                                                      wikipedia celebrity common man celebrity everything common man nothing valuebecause value le app sometimes give option describe article bigrophy etc -0.300000\n",
            "99   org.wikipedia                                                                                                                                               avid seeker knowledge passionate reader wikipedia nothing short miracle even though editing mistake sometimes love platform implement various technique clean get rid vandalism article six million article counting absolute reader like app also userfriendly dynamic enhances experience  0.158333\n",
            "100  org.wikipedia                                                                                                                                                                                            well designed easy use think one thing missing updated home screen widget mainly one image day snippet featured article opening new tab also take regular wikipedia home page browser fine doesnt dark theme youre using dark theme wont match  0.081629\n",
            "101  org.wikipedia                                                                                                                                                     one setting page download also loading brief time switching tab cant go directly left place two define feature improved definition basic three add read later option sync desktop mobile app four option change background colour eye friendly reading available firefox reading mode  0.129167\n",
            "102  org.wikipedia                                                                                 wikipedia app good lack basic functionality doesnt work way reading article work fine youve got internet connection editing oh well edits made wont show appears didnt edit anything annoying unhandy editing interface make delete entire section accident virtually everything example specialwatchlist requires external web browser good job wikimeda  0.145238\n",
            "103  org.wikipedia                                                                                                                                                                                                                                                                                                                                                                                                         handy easy use find anything need  0.516667\n",
            "104  org.wikipedia                                                                                                                                                                            difficult search thing even type title article page type united state search bar hit enter take wikipedia page united state give list bunch page united state title desktop mobile browser version work like app think would simplify thing make lookup easier -0.500000\n",
            "105  org.wikipedia                                                                                                                                                                                                                                                                                                                                                            love app full resource app make easier get easier read harder lose guy outdone  0.250000\n",
            "106  org.wikipedia                                                                                                        love app something bug quite dark mode mode execpt standard light one bar little square ie bar display number seat party parliament little square used differentiate party color completely blank look like easy fix hopefully understand mean thanks edit havent tried yet fear viewing history get losti think doesnt get synced  0.069583\n",
            "107  org.wikipedia                                                                                                                                                                                                                                                                                                                   use app wikipedia app like dictionary way get information subject feel like im addicted read accessibility select speak -0.283333\n",
            "108  org.wikipedia                                                                                                                                                                                                                                                                                                                                                                                                           love get keep track latest news  0.500000\n",
            "109  org.wikipedia                                                                                                                                                                                                                                                                                                                                                                                              give two use wiki sometimes good app website  0.700000\n",
            "110  org.wikipedia                                                                                                            apps usually inferior compaaring website webbrowsers already built lot functionality default eg zoom select almost text picture custom font etc etc meanwhile use app always support simplest function like zoom font select copy etc even sometimes functionality equivalent website often working properly incompatibility o -0.125000\n",
            "111  org.wikipedia                                                                                                                                                                                                                                                                                                                                                        many feature amazing miss button return home page like google home button top left  0.400000\n",
            "112  org.wikipedia                                                                                                                                                                                                                                                                                                                                                           easy use love fast easy found info question instead going internet slow painful  0.094444\n",
            "113  org.wikipedia                                                                                                                                                                                                                                                                                                                                                 app start select article running search function article load photo top article displayed  0.500000\n",
            "114  org.wikipedia                                                                                                                                                                literally immaculate actually cant think anything remotely bad app everything need right even fix issue mobile browser version language switching fast rabbit holing smooth sailing encouraged tab system gorgeous dark mode clearly something made someone care say cheer  0.104464\n",
            "115  org.wikipedia                                                                                                                                                                                                             great app feedback 1needs border tab view dark mode hard see one tab end begin two tab move around tab list opened recent one fall bottom make awkward trying bookmark one one doesnt make sense move either nine hundred ten -0.040278\n",
            "116  org.wikipedia                                                                                                                                                                                            used fine dark black mode lot text white white background usually happens album track list tv show episode list wikipedia kind us white table display information keep text white top table way see text select text going copy text hyperlink  0.095000\n",
            "117  org.wikipedia                                                                       horrible many issue one content becomes invisible dark mode two image appear dull click error message shown saying image cant drawn try zoom image disappears three audio dont play fully get stuck middle four scrolled bottom homepage say cant show content offline even though im online five section article expanded cant collapsed make difficult find thing -0.240278\n",
            "118  org.wikipedia                                                                                                                                                                                                                                love wikipedia ive reading using app many year actually top ten list must apps informative lot great feature allow make list save article used offline also revised directly app hugely highly recommended  0.365714\n",
            "119  org.wikipedia                                                                                                                                                                                                                                                                                                      prime source disinformation notice dishonest reply wiki worst offending page locked editing wiki great ideological propaganda tool n -0.150000\n",
            "120  org.wikipedia                                                                                                                                                        change review issue resolved hi ive loved app year hasnt synced since january two thousand twenty-one downloaded beta installed app device still hundred saved article stuck main app android phone googled around fix found none couldnt find feedback button setting either help  0.433333\n",
            "121  org.wikipedia                                                                                                                                                                                                                                                                                                                                                                              excellent resource contribute studieseducational advancement  1.000000\n",
            "122  org.wikipedia                                                                                   app incredible one point serious navigational issue rendered basically broken back button longer work properly immediately take back featured article rather previous page getting actual home screen app much difficult getting featured article article open previous tab rather opening new tab portal also essentially broken within app please fix -0.071562\n",
            "123  org.wikipedia                                                                                                                                                                                                                                                                                                                               recommendation make category within article eg description history etymology etc collapsible dropdown arrow  0.000000\n",
            "124  org.wikipedia                                                                                                                                                                       latest update good today featured article keep defaulting top home page way suppress frustrating also floating continue reading bar foot screen intrusive take space especially smaller screen sliding bar right often get way swiped menu take screen width opened  0.264286\n",
            "125  org.wikipedia                                                                                                                                                                                            comment im reading create feeling app almost taking screen phone im going defer downloading see encouraging review occasionally use wikipedia single topic search much like google search one truly think info relevant ill keep watching thks  0.005714\n",
            "126  org.wikipedia                                                                                                                    please add option add folder specific list list section also add different language application interface also application technical problem playing video possible use enlarged mode video screen video image small invisible fact wikipedia app player work well mobile window web version please solve problem well -0.050000\n",
            "127  org.wikipedia                                                                                                            thought wikipedia app redundant since website already exists saving article offline transferring device clean reading experience dark mode make app new account worth havent tried editing app yet though biggest issue far explore easier get especially open tab tab took getting used coming iphone small tweak needed area  0.037879\n",
            "128  org.wikipedia                                                                                                                                                                                                                                                                                                                                                                                         recommended anyone like reading curious something -0.100000\n",
            "129  org.wikipedia                                                                                                                                                                                                                                                                                                                                                                                                                  informative reliable app  0.000000\n",
            "130  org.wikipedia                                                                                                                                                                                                                                                                                                                             app great look nice thing well one thing issue editor editor scale text unreadable extreme either small large  0.247857\n",
            "131  org.wikipedia                                                                                                                                                        there small bug trending turned say there nothing explore feed even though trending turned appears tap suggested edits tap explore tab refreshing explore feed doesnt fix signing back doesnt fix reinstalling app doesnt fix bug start first refresh explore tab please fix thank  0.125000\n",
            "132  org.wikipedia                                                                                                                                                           like app use almost daily however really suck possibly due app update occasionally find logged wikipedia account log back search login data elsewhere type anew login box app provide option save reuse login data use token whatever please fix best keep u logged first place  0.189286\n",
            "133  org.wikipedia                                                                                                                                                                latest iteration app improved navigability also added several customisable feature dont think version major shortcoming referring interface feature comment technical aspect app know subject good going guy wikipedia asset commonaverage user like version ample justice  0.182639\n",
            "134  org.wikipedia                                                                                            inapp setting there reading list syncing syncing across device work realtime syncing dont think since read w handheld work check tab home there realtime syncing syncing swap list doesnt work must log log worst download older article double suggestion please make like realtime syncingand perhaps note device original save article list -0.114583\n",
            "135  org.wikipedia                                                                                                                                                                                                                                                                                                                                                                                           app good dont know cant undo edits desktop site  0.700000\n",
            "136  org.wikipedia                                                                                                                                                                                                                                                                                                                                                                                                           help updated various discipline  0.000000\n",
            "137  org.wikipedia                                                                                                                                app absolutely amazing fun learn learned much incredible able look absolutely anything imagine anything world brief description available either read read via text reader happens another app highly recommend hope make custom home page see article like pertain life interest hopefully positive theme  0.365253\n",
            "138  org.wikipedia                                                                                                           love wikipedia informational thing godsend app couple feature missing mobile internet version one previously clicked link arent highlighted purple maybe option put show two importantly mobile version section hidden open close click organization scheme missing app two feature really mean lot would amazing could one day  0.050463\n",
            "139  org.wikipedia                                                                                                                                                                                                                                                                          must apps feature article everyday start day like reading first thing morning become contributor registered apps make people smarter everyday highly recommended  0.002500\n",
            "140  org.wikipedia                                                                                                                                                                                                                                                                                                    simply best encyclopedia wikipedia one hundred free non profitable platform knowledge thank jimmy wale amazing platform free knowledge  0.600000\n",
            "141  org.wikipedia                                                                                                                                                                                                                                                                                                                                                                                                                         good tool editing  0.700000\n",
            "142  org.wikipedia                                                                           favourite app phone use daily love reading featured article everyday featured photograph really great use apps news recently read feature get daily dose current affair turning real news channel recently read section especially cool useful figure whats going world based people reading wikipedia brilliant ux massive congrats developer standing ovation  0.246154\n",
            "143  org.wikipedia                                                                                                                                                     ever since ive discovered app tend read paragraph page expected much easier read article really huge problem think randomizer show article america generally west im sure ive tapped number time one day never gotten anything none english speaking country might try check love app  0.221429\n",
            "144  org.wikipedia                                                                                                                                                                                                                                                                                                                                        horrible app experience created horrible deceiving nongovernmental organization neither need exist -1.000000\n",
            "145  org.wikipedia                                                                                                                             loved app stopped working recently last week problem app every time attempted read article app simply stated error occurred app crash merely would let read article attempted uninstall reinstall app encountered problem installation process however app still continued state error occurred disappointing -0.080000\n",
            "146  org.wikipedia                                                                                                 wikipedia good appwebsite suggestion mobile websiteapp im sure would benefit many article begin hyperlinked list section subsection one get desired section immediately keep scrolling wiki often used like reference book longer collection article one start reading top suggestion would esp useful mobile accesors scrolling involved  0.500000\n",
            "147  org.wikipedia                                                                                                                                                                                                                                                                                        everything good except flaw sometimes close app reopen reopen page closed ago annoying flaw display content wikimedia category use browser instead -0.066667\n",
            "148  org.wikipedia                                                                                                                                                                                                                                                                                                                                                                                             refered wikipedia note actually nice platform  0.600000\n",
            "149  org.wikipedia                                                                                                                                                                                                                                                                                                                                                                                       wikipedia best source research recent history event  0.500000\n",
            "150  org.wikipedia                                                                                                                                                                                                                                                                                                                                                                                                    application helpful homework also free  0.400000\n",
            "151  org.wikipedia                                                                                                                                                                                                                                                                                                                                                                                                           dont app wiktionary would great  0.800000\n",
            "152  org.wikipedia                                                                                                                                                                                                                                                                                                                                                                                                       informative app diverse information  0.000000\n",
            "153  org.wikipedia                                                                                                                                                                                                                                      good last week black mode stopped working right viewing article opposed home screen article showing strange formatting white background light blue font forrmatting ok light mode thats hard old eye  0.156448\n",
            "154  org.wikipedia                                                                                                                                                functionally similar browser experience le intuitive wikipedia reputable deserves overhaul wonderful like app discord weird try get tab screen home tab big preview vague represent looked article link preview sometimes vague previewing parent article instead relevant portion fetched  0.050000\n",
            "155  org.wikipedia                                                                                                                                                                                                      best user interface functionality app ive ever used many convenient feature smooth finish many customizationtheme option available never issue app slow desperately need return home page button youre knee deep rabbit hole article  0.237500\n",
            "156  org.wikipedia                                                                                        love app love wikipedia far better searching wikipedia article browser mobile easy use inpage seach function particularly useful well quick introduction piece would normally able access hovering link pc laptop quick edits pretty good im bored might steamroller couple image caption article description also enjoy reading main page morning  0.322619\n",
            "157  org.wikipedia                                                                                                                                                                                                                                                                      brilliant really new swipe left content menu horrible clunky doesnt always swipe first time doesnt swipe back press tiny sliver remaining screen get rid wasnt broke  0.040909\n",
            "158  org.wikipedia                                                                                                                                                                                             imagine modern library alexandria pocket come dark mode completely free wikipedia app streamlined portable experience allows read snippet hyperlink article get instant definition word multiple tab open save entire article device internet  0.064286\n",
            "159  org.wikipedia                                                                                                                                                                                                                                                                                                                                                                                                   google translate within app doesnt work  0.000000\n",
            "160  org.wikipedia                                                                                                                                                                                                                              experience really making mad keep giving code saying im known someone abused site way wont explain may see allegedly done love site started happening smh ai isnt smart seems done nothing deserve shut code  0.037857\n",
            "161  org.wikipedia                                                                                                             wikipedia app nearly best app world give motivation discover thing random google search app still fifty-nine page opened tab manager wich read think app really good thing could get better dark mode sometimes get annoying read greylike coulour background text think could give option theme user get comfortable reading  0.164286\n",
            "162  org.wikipedia                                                                                                                                                                                                                                                                                                                                                                                       good place find information anything also free good  0.600000\n",
            "163  org.wikipedia                                                                                                                                                                                                                                         like person said truly mobile app many feature wikipedia online like randomizer new article picture day new news section wikipedia app versatile easy use clear informative interesting thank app  0.301010\n",
            "164  org.wikipedia                                                                                                                                         order get setting hve back current page doesnt make sense main menu always available ten tab open time dont want forced go away page every time want go setting history option nly available main page also another weird thingbug new tab open webview iframe thing instead themed inapp version  0.039141\n",
            "165  org.wikipedia                                                                                                                                                                                                                                   new design horrible particularly new swipe left menu text small far apart ugly circle guide awful doesnt pull smoothly one motion cant swipe right get rid tap small part screen thats still left awful -0.241658\n",
            "166  org.wikipedia                                                                                                                      miss old wiki remember could look artist see gallery work stuff like picture hidden really awful way moving functional information like graph chart different page link want see discography band might first thing want know new wikipedia somewhere else drama main page really dislike look like wont change back -0.034848\n",
            "167  org.wikipedia                                                                                                                                                                                                                                                  good thing app like fact save wikipedia page list unable access unless open page close tab manually open history list well launch page selection suggested wikipedia page including read  0.050000\n",
            "168  org.wikipedia                                                                   everything man could need wikipedia free online encyclopedia anyone edit within app beautiful sleepless night turned app read one full article specifically one alien film series dropped like rock afterwards entering peaceful slumber information could possibly need information isnt write article give knowledge world become new prometheus one thousand ten app  0.217045\n",
            "169  org.wikipedia                                                                                                                                                                                                                                 opening certain section app eg episode summary tv show text box slightly wider screen meaning swipe screen back forth every line really frustrating bug would good fix text autofitted screen device used  0.069524\n",
            "170  org.wikipedia                                                                                                                                                                                                             absolutely amazing app greatly worsened latest update new ui table content quite bad seem ditched simplicity aesthetic design much le practical five star app developer revert back prior design worked well need replacement  0.192045\n",
            "171  org.wikipedia                                                                                                                                                                                                                                                                                                                                                                                    knowledgeable app trace information topic around world  0.000000\n",
            "172  org.wikipedia                                                                                                                                         isnt encyclopedia farleft propaganda machine written people cant read research whose propaganda protected edited actual historical fact wikipedia ever source reliable information since inception constantly filled lie easily disprovable information rely wikipedia factual information pityed  0.105556\n",
            "173  org.wikipedia                                                                                                                                                                                                                                                                                                                                                                                     love app worth downloading get information tip finger  0.400000\n",
            "174  org.wikipedia                                                                                                                                                                                                                                                                                                                                                                                                           much better information station  0.500000\n",
            "175  org.wikipedia                                                                                                                                                                        tragic blatant dishonesty shameful bias completely undermined wonderful resource promise internet look talk page get edited obscure record valid topical concern expressed regarding content reiterate look history edits talk page see dishonest wikipedia become -0.075000\n",
            "176  org.wikipedia                                                                                                                                                                                                                                                                                                                                                                    latest update ruined bottom page popup click link page read bad change -0.100000\n",
            "177  org.wikipedia                                                                                                                                                                                                                             second time app refused open new tab apparently accept uninstall lose tab reinstall every issue many tab delete many tab want open new tab like theme bookmarking serifsansserif option good app besides flaw  0.224747\n",
            "178  org.wikipedia                                                                                                                                                                                        great app used year easy use interface read wikipedia however loses star place tab anymore present io often use passenger long car journey pointing interesting feature family albeit often annoyance pretty sure used present android please back  0.213333\n",
            "179  org.wikipedia                                                                                                                                                                                                                 wont let make account apparently ip address blocked therefore cant register account edit ip address included range ip address blocked calculation something idk could try fix shouldnt troubleshoot ip issue make account  0.050000\n",
            "180  org.wikipedia                                                                                                                                                                                                                                                                        latest update new update cant open image article see grey box article annoying frustrating please restore older version excellent user interface completely ruined  0.072559\n",
            "181  org.wikipedia                                                                                                                                                                                                                                                                last month automatic update saved page hundred deleted first thought due started saving afresh time newly saved page kept deleting regularly hope new update address issue  0.066288\n",
            "182  org.wikipedia                                                                                                                                                                                                                                                                                                                                             usually read wikipedia relax time like wikipedia read lot something like history love history  0.125000\n",
            "183  org.wikipedia                                                                                                                              app good web browser version since app show info subject missing key linksheading get info ie searching television season multiple season unable go specifically season page see individual episode even though web browser version link season season list heading show app version therefore uninstall app -0.023810\n",
            "184  org.wikipedia                                                                                                                                                                                         app great last update since feature find specific word page disappeared addition half image come instead saying image couldnt drawn article never come instead showing process brought though quite often doesnt progress past stage disappointed -0.061111\n",
            "185  org.wikipedia                                                                                                                                                                                                    never write app review good enough make want voice appreciation seventy-two tab open take precisely left reading quick seamless transition link intuitive design good source preview system regret year reading article mobile browser  0.261905\n",
            "186  org.wikipedia                                                                                                                                                                                                                                                                                                                                                                                                                    informative site world  0.000000\n",
            "187  org.wikipedia                                                                                                                                                                       using wikipedia app two year ive encountered problemfirst want read article savedsometimes doesnt load alland tell connected internet even though already downloaded ittwo successfully load page photo thats loadedso dont really know context description picture  0.475000\n",
            "188  org.wikipedia                                                                                                                                                                                                    really good app access wikipedia article concern issue list alternate color showing text dark mode text turn white highlighted read dark mode background white white white text see clearly track list album app dark mode hasnt fixed  0.040909\n",
            "189  org.wikipedia                                                                                                                                                                                                  rating app wikipedia whole good one offer easy navigation panel article bad one app loses internet connectivity apparent reason even apps connect internet two page keep information offline technically use app better live web browser  0.113300\n",
            "190  org.wikipedia                                                                                                                       oh used happen latest update back following wikipedia link google chrome force wikipedia overwrite latest opened tab kept silently losing opened tab closing temporary article thinking new independent tab spend much time cycling reading history recover least read update issue finally fixed wait month though  0.113636\n",
            "191  org.wikipedia                                                                                                                            app nice read article offline save text export read tt even select share present cripple app making dead end people collect information later reference better use firefox select share file read tt copy paste work information offline stuck using precious data wikipedia app cant use anywhere else device  0.233333\n",
            "192  org.wikipedia                                                                                  hello wikipedia using wikipedia android app since last six month found app awesome especially article saving popup dialogue link clicked article functionality would like suggest additional functionality highlighting text sentence paragraph wikipedia mobile app facilitate student researcher general reader easily go highlighted text saved artic  0.296667\n",
            "193  org.wikipedia                                                                                                                                                                                                                                                                         wikipedia app really necessary app like dark mode still find choosing open browser version instead app lack drop format article requires way much scrolling thats  0.012500\n",
            "194  org.wikipedia                                                                                                                    recommendation better experience app mobile phone one scroll article menu bar present disappear bar covered content would great also remove bar icon date time battery etc two increasing use mobile phone laptop tab facing issue eye strain eye strain could reduced stop using blue color hyper link blue color bad  0.100000\n",
            "195  org.wikipedia                                                                                                                       issue external link list category app pretty good part love offline reading love easy use often use category wikipedia app removed page categorywhatever list make app harder use well often check external link check primary source read original article link either broken disabled cant change feature setting  0.204861\n",
            "196  org.wikipedia                                                                                                                                                                                                                              obviously wikipedia wikipedia love hate said app pretty slick really dont like static search bar top pagesarticles removed get press search button bottom bar brain hasnt got memo still try drag every time  0.088889\n",
            "197  org.wikipedia                                                                                               oct twenty-nine update removed one essential feature wikipedia hierarchical display table content content listed reference heading subheading heading result long article table content little use due low readability please reintroduce hierarchical display table content critical feature navigation essential getting overview article -0.051786\n",
            "198  org.wikipedia                                                                                                         frustrating cant copy link url current page im top right button share via show bunch apps clipboard option embedded link right clicked link copied clipboard impossible copy current article link clipboard one work around go different article embeds link article want link use right click option thats ludicrous work around  0.032275\n",
            "199  org.wikipedia                                                                                                                                                                                                                                                 love app made researching lot easier user friendly letting edit article save read later anything issuessuch able delete reading list relatively inconsequential dont let stop downloading  0.275000\n",
            "200  org.wikipedia                                                                                                                                                                                                                                                                             good app still need include sorting functionality come table data need ability sort column like wikipedia desktop browser also image arent displayed grey box  0.325000\n",
            "201  org.wikipedia                                                                                                                                                                                                                         working past couple day say cant connect check internet even though phone connected wifi apps working fine really great app use quite lot recent issue causing lot inconvenience please look matter asap thankyou  0.241667\n",
            "202  org.wikipedia                                                                                                                                                                                                                                                              please return tab button bottom five button useless nobody need change theme everybody need switch tab often app unusable one hand tab bottom possible browse one hand thank -0.250000\n",
            "203  org.wikipedia                                                                                                                                                                                                                           really like app though suggestion guy could yall please add highlighting option many time im project stuffon phone get confused line reading highlighter option could easily highlight stuff wanted write thank  0.183333\n",
            "204  org.wikipedia                                                                                                                                                                                                                                                app good however browsing article list includes reference picture ie military equipment country shrink image image list fully loaded please fix feature may convenienced browse page thank  0.300000\n",
            "205  org.wikipedia                                                                                                                         could five star app opinion missing useful feature would love ability highlight leave postit part use app educational app enrich knowledge learn new information could highlight word article read would great also implementing feature hard simply downloads page add article highlight saveddownloaded article  0.186837\n",
            "206  org.wikipedia                                                                                                                                                                                                                                                                          great app learn stuff wwi wwii nazi germany cold war bombing japan dday much adfree free save one thing view offline like field trip take much storage recommend  0.200000\n",
            "207  org.wikipedia                                                                                                                                                                                                                    day getting message content cant loaded offline even updating app latest version helping frustrating help android version marshmallow edit changed rating run fine work still issue black theme text visible hope look  0.087500\n",
            "208  org.wikipedia                                                                                                                                          instrument learning essentially free never required prioritize quality app break convention much ease simplicity utilitarian elegance design landing page translation guide described five hundred character suffice say among best mankind achievement fifty-five intellectual orgasm everytime  0.475000\n",
            "209  org.wikipedia                                                                                                                                                                                                              excellent ui flawless execution love ux dark ui plus using scroll bar image viewing plus article day trending amazing wish tab scrollable instead tapping like old ui cool work great thanks lot making wonderful experience  0.540000\n",
            "210  org.wikipedia                                                                                                                                                                                                                                                  prefer using web browser keep list open separate tab compare switching tab app keep closing cant really see benefit using app also editing mobile annoying due size otherwise fine guess -0.061667\n",
            "211  org.wikipedia                                                                                                                                                                     unrelated update two thousand twenty-two embedded equation invisible dark mode released update ruined fixed ruined whenever try go back page previous article reading instead kick front page go history get back article wanted clunky annoying improve rating fixed -0.130952\n",
            "212  org.wikipedia                                                                                    great app like research often ive always used wiki jumpof point learning something fact need verified ive already got information confirm seldom mislead usually give good starting point continued reach whether online library like wikipedia use frequently like quick reference whatever app much convenient using browser every time light simple  0.253704\n",
            "213  org.wikipedia                                                                                                                                                                                                               happened map feature could see wikipedia entry near location super useful traveling exploring different place venturing different part neighborhood would guy remove feature made sense mobile version wikipedia make sense  0.146667\n",
            "214  org.wikipedia                                                                                                                                                                                                                                      love wikipedia app except recent update made much difficult use new tab format poorly placed bottom screen floating window accidentally clicked constantly usability testing done please change back -0.037662\n",
            "215  org.wikipedia                                                                                                                                                                                                                                                                             app always bothersome search bar disappearing split second opening app search function isnt even accessible article would bug test update seems obvious thing  0.125000\n",
            "216  org.wikipedia                                                                                                                                                                                                                                                                  good app biggest issue image show correctly dark mode example rare unsupported character hieroglyph shown image rendering support black character blend black background  0.103333\n",
            "217  org.wikipedia                                                                                                             hi wiki admire app heartly wiki read phenomenon current phenomenon im reading get built upon sort like somw family plant genrality organic compound branch certain subset plant animal certian cell feature want system save file desired want save somelist read later make list grid type picture label right imagefront ty  0.125000\n",
            "218  org.wikipedia                                                                                                                                                                                                                              use wikipedia everyday donate regularly app useful giving access information wherever current version seems developed issue trying view image return page available message happens device please could look  0.100000\n",
            "219  org.wikipedia                                                                                                               app good however there problem number death case recovery covid19 pandemic page number like worldometer website even let edit page please beg guy correct covid19 case number cause wikipedia one online source timeplease im begging guy one time thats message ok like change little bit page im greatly satisfied though  0.378125\n",
            "220  org.wikipedia                                                                                                                                                                                                                                                           wikipedia great app like research often give good starting point continued reacg wether online library nice compact design especially liked many option theme changing use time  0.600000\n",
            "221  org.wikipedia                                                                                                                                                                                                                               decent app albeit fact generally end using browser freeze startup error globe image fact totally locked phone first multiple lock unlocks finally allowed get desktop running android ten oneplus seven pro  0.066667\n",
            "222  org.wikipedia                                                                                                                                                                                      please add translation plugin like chrome select text menu offer translate google translator plus translation apps added ie multitran important people read lot article non native language shouldnt difficult since implemented browser book reader -0.050000\n",
            "223  org.wikipedia                                                                                                                                                                                                                                 great app wikipedia especially appreciate home page widget like day current event searching browsing smooth id appreciate better compatibility nonstandard page list portal etc ability sort table column  0.340000\n",
            "224  org.wikipedia                                                                                                                                                                                                                                                        really good app wish setting turn swipe open table content make scrolling horizontally within table little tricky least wish swipe zone closer right edge screen rather everywhere  0.099643\n",
            "225  org.wikipedia                                                                                                                                                                                                                                                                                    think show image feature working expected tried enabled disabled resulted image shown article however work perfectly explore feed hope itll fixed soon  0.200000\n",
            "226  org.wikipedia                                                                                                           best app ever made global standard information anyone could read article topic read historical event wikipedia non profit organization ad disturb reading article user also edit article mistake also space go one hundred mb clear cache space come back two thousand , two hundred twenty-four mb probably best app ever seen  0.300000\n",
            "227  org.wikipedia                                                                                                                        still two hundred one thousand , seven hundred ten version app im older phone jellybean recently saying error occured whenever try load page even one saved idk happened sad unusable great app ui actually trained using firefox instead chrome jellybean thereby became safety requirement thank work help world  0.077778\n",
            "228  org.wikipedia                                                                                                                                                                                                                                               put three start dark mode see info table like bracket sport appear color background allow see anything sort table way desktop webpage sorting table useful feature mobile version wikipedia  0.075000\n",
            "229  org.wikipedia                                                                                                                      pro really great app alot feature website exploring feature give suggestion certain article ad free zone fundraising app customizable allows save article user create list favorite wiki article exploring feature give suggestion con storage could problem device insufficient stoarge good device lot wiggle room  0.522857\n",
            "230  org.wikipedia                                                                                                                                                                                           whenever search something google click wikipedia link redirects app show article split second simply disappears left previous open article article tried opening nowhere found make extremely annoying read article search within wikipedia app -0.161111\n",
            "231  org.wikipedia                                                                                                                                                                                                                                                                               experience great far one issue change theme default one open wiki page football club home away third color kit loading quick fact section idk app phone old  0.222222\n",
            "232  org.wikipedia                                                                                                                                  incorrectly caching image article rely frequent update data graph app show cached image manually clear cache preview image update upon tapping cached one loaded instead current one month later anyone another bug clicking link google open app article last viewed articletab case last several month  0.025000\n",
            "233  org.wikipedia                                                             everlasting search written spoken implied obtuse venacular definitive suggestive definitive word phonetic expressive work art withstood test trial time one lasted grown changed always improved fact finder since net born pretty much always perfect every way benchmark giant internet lore may stand forever strive put forth noble effort perfection rock wiki baby rock  0.407143\n",
            "234  org.wikipedia                                                                                                                                                                                                                               hi wikipedia problem hurricane article bar stating category hurricane dark mode black instead color hurricane blueyellowred wondering could change back tell u change back specific article everything fine  0.016667\n",
            "235  org.wikipedia                                                                                                                                                                                                                                                                         even amazing website many feature feature easy accesswikipedia officially become entertainmenteducationreference source want able open search result link new tab  0.361616\n",
            "236  org.wikipedia                                                                                                                                                                                                                                                     cant imagine loving wikipedia already wait til learn use feature would ask maybe could occasionally remind one several tab open worst consumes data memory brings joy every day thank  0.066667\n",
            "237  org.wikipedia  think biggest turn wikipedia shifted place rely accurate information many entity company using way promote leaving bad information try update wiki page wont post even slightly negative word wikipedia become platform whose motto cant say anything nice dont say anything lot information wikipedia filtered politically correct paint accurate picture still use science type stuff anything remotely political history etc accurate  0.144444\n",
            "238  org.wikipedia                                                                                                                                                                    problem app didnt even pas log screen forgot wikipedia password entering wrong password twice clicking forgot password say blocked dont want create new account made several edits using account there way log previous account always say blocked horrible experience -0.306061\n",
            "239  org.wikipedia                                                                                                                               look like guy skimped beta testing tab s2 a7 j6 a10 newstyle history listing fails appear within active tab home tapping search switch search box immediately without waiting second tap history doesnt get chance display selecting search tab chooser menu produce correct behaviour maybe trouble button -0.208333\n",
            "240  org.wikipedia                                                                                                                                                                                                                    perfect youre always one saying huh idk let google make accessing info quickly super easy intuitive also tab custom skin make taking deep dive easier already loved wikipedia app give love go entertainment road trip  0.494444\n",
            "241  org.wikipedia                                                                                                                                                                                                                                                                             really usually amazing app love simplicity clean new table content drawer horrible old one wasnt cool looking way simpler informative new one scroll way much  0.154377\n",
            "242  org.wikipedia                                                                                                                                                                             bringing encyclopedia wikipedia browser mobile app would surely always card happy say find useful easy use preferring use app searching web browser much efficient enjoyable use way keep good work guy keep providing world source information sorely needed  0.490476\n",
            "243  org.wikipedia                                                                                                                                                                                app fantastic small suggestion right handed person right side screen used scrolling however scroll right side article open table content since table content also useful option scroll either right left side screen open option could chosen user setting  0.159286\n",
            "244  org.wikipedia                                                                                                                                                                                         id love option allows hide button next every section header ive never edited wikipedia article dont feel competent enough grasp written language keep accidentally hitting useless many wikipedias user simple onoff switch setting would suffice  0.142857\n",
            "245  org.wikipedia                                                                                                                                                  navigation bit flimsy sometimes since portion page may load thus swipe right get content tbh didnt know thing accident gripe lot imagesspecial text render horribly using dark theme tap image briefly view since background temporairly change white back black pls give dark mode love -0.075661\n",
            "246  org.wikipedia                                                                                                                                                                                phone find better use wikipedia internet app app internet expand whichever section want read using list section like table content app section already expanded without table content suggest inserting table content like desktop site collapsing section  0.500000\n",
            "247  org.wikipedia                                                                                            wld give forty-five star possible dis app really good u open multiple tab save download article u want read later offline thouroughly recommend dis app however ti completely perfect click certain image want view doesnt show photo take first photo article note doesnt happen image also wld great wikipedia downloaded image article save  0.329365\n",
            "248  org.wikipedia                                                                                                                                                                                                                                            extremely easy use especially navigation concerned reading article also easy love ability edit grammaticatechnical mistake see article uncommonly necessary however useful feature done wonder  0.277778\n",
            "249  org.wikipedia                                                                                                                                                                              used good app getting worse every release opening image cause couldnt draw image error opening article new tab sometimes working open existing tab instead today explore feed got empty least galaxy s10 really feel im going start using webversion instead  0.033766\n"
          ]
        }
      ],
      "source": [
        "# Analyze sentiments using TextBlob\n",
        "textblob_sentiments = []\n",
        "\n",
        "#This is for printing sample\n",
        "for review in preprocessed_reviews[:250]:\n",
        "    blob = TextBlob(review)\n",
        "    textblob_polarity = blob.sentiment.polarity\n",
        "    textblob_sentiments.append(['org.wikipedia', review, textblob_polarity])\n",
        "\n",
        "# Convert to DataFrame\n",
        "textblob_df = pd.DataFrame(textblob_sentiments, columns=['Package Name', 'Review', 'Polarity'])\n",
        "\n",
        "# Display the results\n",
        "print(\"TextBlob Sentiments:\")\n",
        "print(textblob_df.to_string(index=True))\n",
        "\n",
        "for review in preprocessed_reviews:\n",
        "    blob = TextBlob(review)\n",
        "    textblob_polarity = blob.sentiment.polarity\n",
        "    textblob_sentiments.append(['org.wikipedia', review, textblob_polarity])\n",
        "\n",
        "#This is for storing all the reviews\n",
        "for review in preprocessed_reviews:\n",
        "    blob = TextBlob(review)\n",
        "    textblob_polarity = blob.sentiment.polarity\n",
        "    textblob_sentiments.append(['org.wikipedia', review, textblob_polarity])\n",
        "\n",
        "textblob_df = pd.DataFrame(textblob_sentiments, columns=['Package Name', 'Review', 'Polarity'])"
      ]
    },
    {
      "cell_type": "markdown",
      "metadata": {
        "id": "bwS30cDf-LWU"
      },
      "source": [
        "VaderSentiment reviews analysis is done then and the sameple output of 250 reviews is printed here."
      ]
    },
    {
      "cell_type": "code",
      "execution_count": 36,
      "metadata": {
        "colab": {
          "base_uri": "https://localhost:8080/"
        },
        "id": "8lxGDV99onSS",
        "outputId": "61eaff06-9742-40e9-d6e0-4c6bdcb27948"
      },
      "outputs": [
        {
          "name": "stdout",
          "output_type": "stream",
          "text": [
            "\n",
            "Vader Sentiments:\n",
            "      Package Name                                                                                                                                                                                                                                                                                                                                                                                                                                    Review  Polarity\n",
            "0    org.wikipedia                                                                                                            even frequent user wikipedia totally unaware existence app discovering searched whim app overall excellent random article button offer dangerous game play plan productive ability easily curate personal collection article nice gripe far apparent lack return main page button fall rabbit hole ready click back button lot    0.8228\n",
            "1    org.wikipedia                                                                                                                                            offline usage sd storage great interface one annoying flaw incredibly easy accidentally delete offline page several occasion attempted tap article ever slightly swiped little side time deletes page dosent ask confirmation rather remove page blink eye although allow undo page downloaded    0.4243\n",
            "2    org.wikipedia                                                                                                                                          better update made clumsy difficulttonavigate word developer text run right rightside border leftright movement im constantly sliding apps page left read end sentence looking like wellcrafted new tabbing yuk somewhat poor term usability ive seen guy better know im donor maybe give listen    0.6997\n",
            "3    org.wikipedia                                                                                                                                                 truly love wikipedia app suddenly crowned feature place tab missing version feature placed nearby article interactive map helped navigate new city turned world museum loved necessary cant life figure itd removed light lost life hence dim star rating itd five star without suffering    0.8766\n",
            "4    org.wikipedia                                                                                                                                                              edit issue longer happening app run great app usually fantastic ill happily increase rating five recent issue resolved since recent update app repeatedly say isnt responding working fine wont stop quit even go home screen open another program error message keep coming    0.8778\n",
            "5    org.wikipedia                                                                                               app great offer far superior experience browsing wikipedia mobile browser two small ui improvement needed one scrolling table left unintentionally trigger rightside page content gesture make annoying navigate wide table two app closed least one tab open reopened start screen load first tab unless touch tab counter button tab lost    0.7650\n",
            "6    org.wikipedia                                                                                              great well made app probably favorite app phone right create reading list different subject available offline furthermore reading article clicking highlighted word give summary overlay popup doesnt pull away current article however go full article desire app wikipedia general one silver lining attrocious noise internet apps become    0.9100\n",
            "7    org.wikipedia                                                                                                                                                    im basing rating wikipedias political bias annoying new search actually open new page instead replacing current one im deleting app doesnt support find page viewing make web browser much useful app adding function editing code already implemented force viewer scan whole article   -0.3523\n",
            "8    org.wikipedia                                                                                                                        newest version may two thousand nineteen practically unusable highly frequent crashing particularly trying save article reading list force app restart end losing reading annoying especially considering hadnt experienced issue older version please fix app otherwise fantastic one issue ruin whole experience    0.0717\n",
            "9    org.wikipedia                                                                                               uninstalled article image embedded image tinted slightly grey make image look lowquality downgrade whole experience click image see full color take whole screen cant read second issue clicking link wiki article browser wiki app open redirects different article cache issue maybe rather deal hassle uninstalled browserbased wiki ftw    0.4417\n",
            "10   org.wikipedia                                                                                                                                                                                                                                                 convenient website use lot bandwidth lot little thing get broken update like open tab link external web page audio sample stay broken reason might rate app much lower doesnt bother much   -0.5574\n",
            "11   org.wikipedia                                                                                                                                                                                                                                  really like app lot wish however convenient button reloading page without losing place scroll way back english wave function page seems broken doesnt load way show full article language english reason    0.5540\n",
            "12   org.wikipedia                                                                                                                                                                                                                         favorite app far use wikipedia mobile app perhaps second browser suggestion add way search list dialog many scroll quite bit find right one sometimes itd also nice possible access list menu explorenew tab page    0.7003\n",
            "13   org.wikipedia                                                                                                                      mobile device find app interface convenient pleasant use mobile web site ive two frustration first app occasionally report internet connectivity lost even though hasnt second every time restart device login credential wikipedia deleted device app recommends login ive able determine whether o issue app issue   -0.0516\n",
            "14   org.wikipedia                                                                                                            edit image wont load several day care changed rating one previous review use app every day keep making illadvised change ui nobody need smoothscrolling findinpage zoom awkwardly youre typing also table content swiping right fine way sensitivei keep swiping toc accident scrolling vertically slightly moving righttoleft   -0.1027\n",
            "15   org.wikipedia                                                                                                                                                                   nearby feature removed last update favorite part app made worth using normal web browser despite seemingly longer great feature app well made versatile ui look function like able tap link seeing short overview without taken page getting choose multiple theme nice    0.7909\n",
            "16   org.wikipedia                                                                                                                        intuitive app built usability mind guy nailed tab feature table content button fast scroll showing toc index much dark theme also important one suggestion id love see wiktionary implemented dont leave app would great could click wiktionary link treated wiki page open new tab preview etc anyways great work    0.9366\n",
            "17   org.wikipedia                                                                                                                                                                         serious usability issue main problem way table rendered small screen theyre difficult scroll horizontally row sorted column also editing article app trash edits without warning browser app load another article finally inability pinch zoom image drive banana   -0.7322\n",
            "18   org.wikipedia                                                                                                                                  used wonderful application became le le functional finally longer function device began would load image uninstall reinstall fixed would longer load full sized image never could fix finally longer load anything uninstalling reinstalling longer fix four device use ever get error occurred ever fix    0.2500\n",
            "19   org.wikipedia                                                                                                   great viewing experience using app find user setting allowed desktop almost either broken next impossible find one particular issue found would save none setting specialpreferences area would allow publish commonjs file ive clue stem issue app wikipedia backend service phone incompetence part app fully updated let know please    0.6573\n",
            "20   org.wikipedia                                                                                                      truly liked wikipedia app two thousand twelve back came new app wikipedia uninstalled app used browser two thousand twenty-two gave new wiki app try last year easy use old one also saving article save offline automatically non bookmark many step access saved page fiddly ask wiki check old app bring back way ease feel thanx    0.9393\n",
            "21   org.wikipedia                                                                                                    always loved wikipedia child glad fingertip edit last year two thousand twenty-two sent email wikipedia requesting create wikipedia account phone ip blocked im pleasantly surprised swift response wikipedia team admitting editor ive editor past one year ivee edited flaw article bothered long sorry late update review five star    0.8779\n",
            "22   org.wikipedia                                                                                                                                                                                                                                                                                                  mint save feature excellent customisation setting actually simple would nice let u use vpn actually able edit page instead disconnecting    0.8658\n",
            "23   org.wikipedia                                                                                                                                                                                                                                                                                         love wikipedia donated money reading list sync even work seems like open every article one one get sync offline save data like read article plane    0.8979\n",
            "24   org.wikipedia                                                                                                                                                                                                                                                                                                                                                                          bug blank page almost fixed text article still disappearing case    0.0000\n",
            "25   org.wikipedia                                                                                                                                                                                                                                                                                                  like app problem sometimes look short simple question anything written certain thing otherwise think app pretty good app would recommend    0.8591\n",
            "26   org.wikipedia                                                                                                                                                                                                                                                                                                                           stopped working normally last update uninstallreinstall rectify mobile app becoming dumbed version website imho   -0.5106\n",
            "27   org.wikipedia                                                                                                                                                                                                                                                      one truly great success story application computer done benefit mankind side greedy monopolistic purveyor social medium like zucky musk everybody donate least dollar use every year    0.9313\n",
            "28   org.wikipedia                                                                                                                          everything fine really liked ui one thing cant zoom picture shown article without automatically go side wonder device app really would helpful problem fixed another talk page called talk page discussion page make mind unused design experience bringing mind talk page without feeling dizzy way titled talk    0.6490\n",
            "29   org.wikipedia                                                                                                                                                   great although take time getting used good feature fingertip however whole layout skeletal press hold link select open new tab open another window click link select open new tab show new window underneath current one whats point divide tab opened one top order better distinguish    0.8934\n",
            "30   org.wikipedia                                                                                                                                                                                                                                                                                                                 imho best app app use every day wealth information phenomenal appreciate ad gladly make donation keep good work wikipedia    0.9371\n",
            "31   org.wikipedia                                                                                                                                                                                                                                                                                                                                           free creative common license good interface dont even present login interface trying edit slick    0.8442\n",
            "32   org.wikipedia                                                                                                                                                                                                 ive enjoyed supported wikipedia year however due wikipedias manipulation andrew hubermans article nolonger contributing wikipedia grateful wikipedia content provided im much grateful andrew huberman provided world dont condone action    0.8555\n",
            "33   org.wikipedia                                                                                                                                                                                                                                                                                                                  app unique anyone satisfied throughout app feature allows reader read article offline categorizing feature make pleasant    0.6808\n",
            "34   org.wikipedia                                                                                                                                                                                                                                                                                                                           everything pretty good bit advice kid mode parental control feature best learning making school college project    0.8834\n",
            "35   org.wikipedia                                                                                                                                                                                                                                                                            please provide home button app many click get home currently edit ninety-two thousand twenty-three reducing star hope getting attention difficult get home app    0.4019\n",
            "36   org.wikipedia                                                                                                                                                                                                                                                                                                                  complex obscure compared plain browser abrupt rapid font size changer trying edit visual v wikitext choice viewing diffs    0.0000\n",
            "37   org.wikipedia                                                                                                                                                                                                                                                                                                                                                                         prefer app web page wikipedia great job perfectly really easy use    0.9099\n",
            "38   org.wikipedia                                                                                                                                                                                                     wikipedia awesome app easy use open whole wide world discovery curious mind simply mindblowing many piece knowledge written wikipedia article use app learn heart content feature previously lost restored thank wikimedia foundation    0.9442\n",
            "39   org.wikipedia                                                                                                                                                                                                                                                                           update longer able see link preview landscape mode preview tab behind open new tab read article bar 2mm showing unable pull higher read work fine portrait mode    0.2023\n",
            "40   org.wikipedia                                                                                thanks answer website legendary app still bug bottom bar restricted five icon even tablet list saved list doesnt autoexpand landscape little font width lineheight customization image dimming work backwards dim clicked launching link buggy automatically close tab opened link switch back app later may reopen last link clicked even youd closed tab    0.4767\n",
            "41   org.wikipedia                                                                                                                                                                                                                    app unique web thing need update desktop software use wikipedia desktop application improve chromesandroid wikipedia website finally tab switch feature mobile aplication fast experience wiki app builtin highlighter    0.4404\n",
            "42   org.wikipedia                                                                                                                                                                                                                                                                             popup bottom screen follows clicking blue highlight article display correctly landscape mode tablet work portrait mode frustrating occurred since last update   -0.1280\n",
            "43   org.wikipedia                                                                                                                                                                                                                                                                                           using app past six year overall app amazing term reader friendly however editor app feature importantly option creating new page visual editing    0.8885\n",
            "44   org.wikipedia                                                                                                                                                                                                       love app daily article photo keep opening every day im trying quell social medium addiction opening app first thing morning love bookmark interesting article love change background color soothing eye perfect app amazing website    0.9779\n",
            "45   org.wikipedia                                                                                                   got project school research chandrayan one chandrayan two chandrayan three application hope give u indepth knowledge particular topic loved concept theme cant use light theme extended period switch dark mode impressive word confusing would double click definition finger definitely useful application download thankyou much app    0.9300\n",
            "46   org.wikipedia                                                                                                                                                            impressive becaus sheer number topic cover short general summary sort person place thing historical event enough pique interest get headed library detailed research article lean heavily left wise internet user use goodquality vpn wikipedia prevents edits user vpn turned    0.8360\n",
            "47   org.wikipedia                                                                                                                                                                                                                                                                                                                                                           loading good moto g5g dont understand every phone ive ever apps load except one    0.4404\n",
            "48   org.wikipedia                                                                                                                                                                                                                                                                                                                                                          app amazing installing app read one recommendation would better widget developed    0.7717\n",
            "49   org.wikipedia                                                                                                                                                                                                                                                                                                                                                         enjoy dictionary fingertip ai beta test exciting experience thank mr mr microsoft    0.8360\n",
            "50   org.wikipedia                                                                                                                                                                                                                    wow love app much better scrolling ig way change layout information amazing recommendation id make check box indicate youve seen item every day look ever module information catch rereading section itd nice hide day    0.9501\n",
            "51   org.wikipedia                                                                                                                                                                                                                                                                                                                                                                        wikipedia good website improve thing read account highly recommend    0.8221\n",
            "52   org.wikipedia                                                                                                                                                                            wikipedia application stand unequivocal paragon function paramount reservoir veracious enlightenment across expansive spectrum subject accessibility dependability perpetual enhancement render imperative instrument individual insatiable appetite erudition    0.0000\n",
            "53   org.wikipedia                                                                                                                                                                                                                                                                                                                                     three star downloaded topic doesnt open without internet saved section whats point saving cant access   -0.3252\n",
            "54   org.wikipedia                                                                                                                                                                                                                                                                                                                                                                 zero problem using app nothing top decent functional stable wikipedia app   -0.2714\n",
            "55   org.wikipedia                                                                                                                                                                                                                                                                        ive always liked wikipedia check something learn new thing subject im interested app made easier going browser time great always check source youre reading though    0.9081\n",
            "56   org.wikipedia                                                                                                                                                                                                                                                                                                                                                                         wikipedia one favourite learning platformsits best thank lot wiki    0.7717\n",
            "57   org.wikipedia                                                                                                                                                                                                                                                               edit workaround seems must first load saved article online saved article read offline even apps cache cleared longer read downloaded article offline please fix immediately    0.7430\n",
            "58   org.wikipedia                                                                                                                                           app greatest intuitive straightforward lite productive technical problem make unusable problem try turn darkblack reading mode night mode white layer appears text article making unreadable end article element appear rendered correctly order problem local guess couldnt find solution help   -0.7286\n",
            "59   org.wikipedia                                                                                                                                             nice id liked option randomly pick article within subject example want read invertebrate mammal dog option randomly pick article nested would nice offline capability good tab history great navigation bit awkward category appears unrelated current article seems content outline list top    0.9371\n",
            "60   org.wikipedia                                                                                     wikipedia app become truly mobile encyclopedia reading experience excellent text size adjusted color presets day night longtime reading available image table correctly positioned displayed clicking image take gallery view read image caption article clicking link show abstract article allowing user understand better main article thank three    0.9001\n",
            "61   org.wikipedia                                                                                                                                                                                                  app crucial use wikipedia content made good throughout year sorely miss ability copy link current view page section doesnt seem specific feature sharing button lack usual copy link option apps im looking forward simple feature added    0.6249\n",
            "62   org.wikipedia                                                                                                                                                                                                    good app please give u option stop redirecting app browser would also nice automatic commonly used wikitexts editing screen would constantly look also stop tab opening every article kind annoying hundred tab open finishing session    0.6486\n",
            "63   org.wikipedia                                                                                                                                                                                                                                                                                                                           dont beautiful widget like io android show special day etc available io android old outdated one discrimination   -0.3728\n",
            "64   org.wikipedia                                                                                                                                                                                                                                                                                                                              imagine life would like without great app ive donated several time worth im constantly using thank wikipedia    0.3830\n",
            "65   org.wikipedia                                                                                                                                                                                                                                                                                                                                                                           good appjust got double check proof read text make sure correct    0.6369\n",
            "66   org.wikipedia                                                                                                                               useful application several reason frequent issue regarding downloading keeping content design element seem lacking cleverness style otherwise good functional handy beautiful application besides improving lacking area wide spanning application lot room improvement always eager see improvement update    0.9729\n",
            "67   org.wikipedia                                                                                                                                                                                         wikipedia app much excellent app make browsing wikipedia easier ever integrated tab well cool feature let preview linked article without leaving one youre reading make worthwhile app anyone like read learn app designed careful attention show    0.9371\n",
            "68   org.wikipedia                                                                                                                                                                                                                                                                                                                                                                                  like trip biggest window world without leaving easychair    0.3612\n",
            "69   org.wikipedia                                                                                                                               could never make synch reading list original device saved device changed phone gone shame spent much time collecting article fact access reading list normal browser little bit ridiculoussorry wikipedia love general app need improvement would love able continue use effectively across platform device    0.9460\n",
            "70   org.wikipedia                                                                                                                                        wikipedia definitely best source information love web version many issue app firstly app version section already expanded unlike web version section collapsed expand per need make inconvenient use also issue operating dark mode data isnt visible summary section top many page need fix issue    0.8934\n",
            "71   org.wikipedia                                                                                                                                                                      surprised truly amazing ui perfectly sync google design language also impressive range available option however cant visit talk page see watchlist etc would really like interesting article nearby tab could customised show feed feature added rating go five star    0.9677\n",
            "72   org.wikipedia                                                                                                                                                                                                        five star many bug latest version twenty million , two hundred one thousand twenty-nine corrected pleasure browse working though ive tested several device loading animation endless first paragraph missing also hard get history    0.2732\n",
            "73   org.wikipedia                                                                                                                                                                                                                                                                                                                                                                 please add option topi page auto collapsed option collapse expand holding   -0.1779\n",
            "74   org.wikipedia                                                                                                                                                                                                                                                                                                                                          firstly love wikipedia fact much knowledge free make smile secondly great app using morning read    0.9337\n",
            "75   org.wikipedia                                                                                                                                                                                                                                                                                                                                                                          wikipedia large versatile source material appreciate depth scope    0.4019\n",
            "76   org.wikipedia                                                                                                                                                                                                                                                            wikipedia bad app writing one showing write number population punjab last ten year find mean highest lowest range ad showing alexandre great rescal app nonsense app idiot app   -0.7717\n",
            "77   org.wikipedia                                                                                                                                                                                                                                                                                                                                                                                       get lost hour researching stuff enjoy wikipedia lot    0.2263\n",
            "78   org.wikipedia                                                                                                                                                                                                                                                                                                                                                                                     awesome excellent knowledge wikipedia app every thing    0.8316\n",
            "79   org.wikipedia                                                                                                                                                                                                                                                                                                                                                                    really enjoy using application deep information globally find platform    0.5413\n",
            "80   org.wikipedia                                                                                                                                                                                                                                                                                                                                                            ive always loved library bible study help wikipedia excellent material student    0.8834\n",
            "81   org.wikipedia                                                                                                                                                                                               good app reading wikipedia content trying open full version history web page app break presumably try open page chrome chrome redirects call directly wikipedia app easy fix three star even workaround access relevant version history way    0.7003\n",
            "82   org.wikipedia                                                                                                                                                                                                                                                                                                                      garbage left wing biased b really show page right wing politician totally done plus fact never right anything hardly   -0.2732\n",
            "83   org.wikipedia                                                                                           app done great job modifying wikipedia website way usage mobile clear uncluttered small screen also different website experience throw longterm user feature editing peeking link executed make use native mobile feature therefore clear predictable meanwhile app even implemented feature desktop browser searching make complete experience    0.8519\n",
            "84   org.wikipedia                                                                                                                                                                                                                                                                                                                                                          helpful app would helpful voice reader listen offline saved article engaged task    0.8625\n",
            "85   org.wikipedia                                                                                                                                                                                                                                                                                                                            image show normal brightness tapping enlarge actually go darker preview really counter intuitive bad ux design   -0.2878\n",
            "86   org.wikipedia                                                                                                                                                                                                         ever since downloaded wiki app absolutely impressed found app feel dont need pc died time ago use wiki cell read many review positive negative ive experienced negative issue whiner cry must iphone user five flippity star folk   -0.4182\n",
            "87   org.wikipedia                                                                                                                                                                                                                                                                                                                                                  decent app there prominent save page button screen absolutely way access saved page even    0.8207\n",
            "88   org.wikipedia                                                                                                                                                                                                                                                                       app bug article couldnt display properly said error occured due network error weird even though device connected internet wherease wikipedia browser affected error   -0.8555\n",
            "89   org.wikipedia                                                                                                                                                                                                                                                                                               app good there glitch whenever sign gmail account use mobile app keep redirecting play store saying need updating way malfunction corrected    0.6486\n",
            "90   org.wikipedia                                                                                                                                                                                                                                        surely donate start earning vow cant describe much knowledge gained platform keeping amazing thing ad free accessible truly need appreciation grateful devs course people making wikipedia refined    0.9674\n",
            "91   org.wikipedia                                                                                                                                                                                                                                                                                                  hardly believe im reviewing wikipedia sum one greatest development last two century donate ten month least four order magnitude valuable    0.8074\n",
            "92   org.wikipedia                                                                                                                                                                          little circle right pull content extremely inconvenient scrolling others pointed many u end dragging swiping one handedly option move left screen might solve issue also since around month ago app automatically dims image dark mode even image dimming turned   -0.2247\n",
            "93   org.wikipedia                                                                                                                                                                                                                                                                                                                                                    article doesnt load anymore deleted app reinstalled still article cant opened language    0.0000\n",
            "94   org.wikipedia                                                                                                                                                                                                                                         cant video like facebook instagram twitter uploaded viewed wikipedia app video uploaded wikipedia user base increase also app probably downloaded one billion time im using useful app bangladesh    0.4749\n",
            "95   org.wikipedia                                                                                                                                                                             obviously love wikipedia doesnt fan redesign latest update visually look appealing overall slide menu longer animation slid away tapped result part experience feel much le natural know longer actually slide menu left swipe right open menu tap left close    0.6945\n",
            "96   org.wikipedia                                                                                                                                                                                                                                                                                                                                                                                                    recent browser link longer opening app    0.0000\n",
            "97   org.wikipedia                                                                                                                            app overall friendly interface although several problem well editor cant add article description reason whenever try add one description doesnt display immediately wait several day confirm suspicion description added displayed mention page take load compared open browser pretty much hassle please look    0.6705\n",
            "98   org.wikipedia                                                                                                                                                                                                                                                                                      wikipedia celebrity common man celebrity everything common man nothing valuebecause value le app sometimes give option describe article bigrophy etc   -0.2584\n",
            "99   org.wikipedia                                                                                                                                               avid seeker knowledge passionate reader wikipedia nothing short miracle even though editing mistake sometimes love platform implement various technique clean get rid vandalism article six million article counting absolute reader like app also userfriendly dynamic enhances experience    0.9028\n",
            "100  org.wikipedia                                                                                                                                                                                            well designed easy use think one thing missing updated home screen widget mainly one image day snippet featured article opening new tab also take regular wikipedia home page browser fine doesnt dark theme youre using dark theme wont match    0.5574\n",
            "101  org.wikipedia                                                                                                                                                     one setting page download also loading brief time switching tab cant go directly left place two define feature improved definition basic three add read later option sync desktop mobile app four option change background colour eye friendly reading available firefox reading mode    0.7430\n",
            "102  org.wikipedia                                                                                 wikipedia app good lack basic functionality doesnt work way reading article work fine youve got internet connection editing oh well edits made wont show appears didnt edit anything annoying unhandy editing interface make delete entire section accident virtually everything example specialwatchlist requires external web browser good job wikimeda    0.6765\n",
            "103  org.wikipedia                                                                                                                                                                                                                                                                                                                                                                                                         handy easy use find anything need    0.4404\n",
            "104  org.wikipedia                                                                                                                                                                            difficult search thing even type title article page type united state search bar hit enter take wikipedia page united state give list bunch page united state title desktop mobile browser version work like app think would simplify thing make lookup easier    0.8807\n",
            "105  org.wikipedia                                                                                                                                                                                                                                                                                                                                                            love app full resource app make easier get easier read harder lose guy outdone    0.7964\n",
            "106  org.wikipedia                                                                                                        love app something bug quite dark mode mode execpt standard light one bar little square ie bar display number seat party parliament little square used differentiate party color completely blank look like easy fix hopefully understand mean thanks edit havent tried yet fear viewing history get losti think doesnt get synced    0.9712\n",
            "107  org.wikipedia                                                                                                                                                                                                                                                                                                                   use app wikipedia app like dictionary way get information subject feel like im addicted read accessibility select speak    0.6124\n",
            "108  org.wikipedia                                                                                                                                                                                                                                                                                                                                                                                                           love get keep track latest news    0.6369\n",
            "109  org.wikipedia                                                                                                                                                                                                                                                                                                                                                                                              give two use wiki sometimes good app website    0.4404\n",
            "110  org.wikipedia                                                                                                            apps usually inferior compaaring website webbrowsers already built lot functionality default eg zoom select almost text picture custom font etc etc meanwhile use app always support simplest function like zoom font select copy etc even sometimes functionality equivalent website often working properly incompatibility o    0.3612\n",
            "111  org.wikipedia                                                                                                                                                                                                                                                                                                                                                        many feature amazing miss button return home page like google home button top left    0.7579\n",
            "112  org.wikipedia                                                                                                                                                                                                                                                                                                                                                           easy use love fast easy found info question instead going internet slow painful    0.7964\n",
            "113  org.wikipedia                                                                                                                                                                                                                                                                                                                                                 app start select article running search function article load photo top article displayed    0.2023\n",
            "114  org.wikipedia                                                                                                                                                                literally immaculate actually cant think anything remotely bad app everything need right even fix issue mobile browser version language switching fast rabbit holing smooth sailing encouraged tab system gorgeous dark mode clearly something made someone care say cheer    0.9042\n",
            "115  org.wikipedia                                                                                                                                                                                                             great app feedback 1needs border tab view dark mode hard see one tab end begin two tab move around tab list opened recent one fall bottom make awkward trying bookmark one one doesnt make sense move either nine hundred ten    0.4767\n",
            "116  org.wikipedia                                                                                                                                                                                            used fine dark black mode lot text white white background usually happens album track list tv show episode list wikipedia kind us white table display information keep text white top table way see text select text going copy text hyperlink    0.7184\n",
            "117  org.wikipedia                                                                       horrible many issue one content becomes invisible dark mode two image appear dull click error message shown saying image cant drawn try zoom image disappears three audio dont play fully get stuck middle four scrolled bottom homepage say cant show content offline even though im online five section article expanded cant collapsed make difficult find thing   -0.8839\n",
            "118  org.wikipedia                                                                                                                                                                                                                                love wikipedia ive reading using app many year actually top ten list must apps informative lot great feature allow make list save article used offline also revised directly app hugely highly recommended    0.9439\n",
            "119  org.wikipedia                                                                                                                                                                                                                                                                                                      prime source disinformation notice dishonest reply wiki worst offending page locked editing wiki great ideological propaganda tool n   -0.8402\n",
            "120  org.wikipedia                                                                                                                                                        change review issue resolved hi ive loved app year hasnt synced since january two thousand twenty-one downloaded beta installed app device still hundred saved article stuck main app android phone googled around fix found none couldnt find feedback button setting either help    0.8442\n",
            "121  org.wikipedia                                                                                                                                                                                                                                                                                                                                                                              excellent resource contribute studieseducational advancement    0.5719\n",
            "122  org.wikipedia                                                                                   app incredible one point serious navigational issue rendered basically broken back button longer work properly immediately take back featured article rather previous page getting actual home screen app much difficult getting featured article article open previous tab rather opening new tab portal also essentially broken within app please fix   -0.7884\n",
            "123  org.wikipedia                                                                                                                                                                                                                                                                                                                               recommendation make category within article eg description history etymology etc collapsible dropdown arrow    0.0000\n",
            "124  org.wikipedia                                                                                                                                                                       latest update good today featured article keep defaulting top home page way suppress frustrating also floating continue reading bar foot screen intrusive take space especially smaller screen sliding bar right often get way swiped menu take screen width opened    0.2023\n",
            "125  org.wikipedia                                                                                                                                                                                            comment im reading create feeling app almost taking screen phone im going defer downloading see encouraging review occasionally use wikipedia single topic search much like google search one truly think info relevant ill keep watching thks    0.8316\n",
            "126  org.wikipedia                                                                                                                    please add option add folder specific list list section also add different language application interface also application technical problem playing video possible use enlarged mode video screen video image small invisible fact wikipedia app player work well mobile window web version please solve problem well    0.6124\n",
            "127  org.wikipedia                                                                                                            thought wikipedia app redundant since website already exists saving article offline transferring device clean reading experience dark mode make app new account worth havent tried editing app yet though biggest issue far explore easier get especially open tab tab took getting used coming iphone small tweak needed area    0.7096\n",
            "128  org.wikipedia                                                                                                                                                                                                                                                                                                                                                                                         recommended anyone like reading curious something    0.6808\n",
            "129  org.wikipedia                                                                                                                                                                                                                                                                                                                                                                                                                  informative reliable app    0.0000\n",
            "130  org.wikipedia                                                                                                                                                                                                                                                                                                                             app great look nice thing well one thing issue editor editor scale text unreadable extreme either small large    0.8402\n",
            "131  org.wikipedia                                                                                                                                                        there small bug trending turned say there nothing explore feed even though trending turned appears tap suggested edits tap explore tab refreshing explore feed doesnt fix signing back doesnt fix reinstalling app doesnt fix bug start first refresh explore tab please fix thank    0.5859\n",
            "132  org.wikipedia                                                                                                                                                           like app use almost daily however really suck possibly due app update occasionally find logged wikipedia account log back search login data elsewhere type anew login box app provide option save reuse login data use token whatever please fix best keep u logged first place    0.8405\n",
            "133  org.wikipedia                                                                                                                                                                latest iteration app improved navigability also added several customisable feature dont think version major shortcoming referring interface feature comment technical aspect app know subject good going guy wikipedia asset commonaverage user like version ample justice    0.9246\n",
            "134  org.wikipedia                                                                                            inapp setting there reading list syncing syncing across device work realtime syncing dont think since read w handheld work check tab home there realtime syncing syncing swap list doesnt work must log log worst download older article double suggestion please make like realtime syncingand perhaps note device original save article list    0.6369\n",
            "135  org.wikipedia                                                                                                                                                                                                                                                                                                                                                                                           app good dont know cant undo edits desktop site    0.4404\n",
            "136  org.wikipedia                                                                                                                                                                                                                                                                                                                                                                                                           help updated various discipline    0.4019\n",
            "137  org.wikipedia                                                                                                                                app absolutely amazing fun learn learned much incredible able look absolutely anything imagine anything world brief description available either read read via text reader happens another app highly recommend hope make custom home page see article like pertain life interest hopefully positive theme    0.9762\n",
            "138  org.wikipedia                                                                                                           love wikipedia informational thing godsend app couple feature missing mobile internet version one previously clicked link arent highlighted purple maybe option put show two importantly mobile version section hidden open close click organization scheme missing app two feature really mean lot would amazing could one day    0.8934\n",
            "139  org.wikipedia                                                                                                                                                                                                                                                                          must apps feature article everyday start day like reading first thing morning become contributor registered apps make people smarter everyday highly recommended    0.7645\n",
            "140  org.wikipedia                                                                                                                                                                                                                                                                                                    simply best encyclopedia wikipedia one hundred free non profitable platform knowledge thank jimmy wale amazing platform free knowledge    0.9638\n",
            "141  org.wikipedia                                                                                                                                                                                                                                                                                                                                                                                                                         good tool editing    0.4404\n",
            "142  org.wikipedia                                                                           favourite app phone use daily love reading featured article everyday featured photograph really great use apps news recently read feature get daily dose current affair turning real news channel recently read section especially cool useful figure whats going world based people reading wikipedia brilliant ux massive congrats developer standing ovation    0.9704\n",
            "143  org.wikipedia                                                                                                                                                     ever since ive discovered app tend read paragraph page expected much easier read article really huge problem think randomizer show article america generally west im sure ive tapped number time one day never gotten anything none english speaking country might try check love app    0.8487\n",
            "144  org.wikipedia                                                                                                                                                                                                                                                                                                                                        horrible app experience created horrible deceiving nongovernmental organization neither need exist   -0.8126\n",
            "145  org.wikipedia                                                                                                                             loved app stopped working recently last week problem app every time attempted read article app simply stated error occurred app crash merely would let read article attempted uninstall reinstall app encountered problem installation process however app still continued state error occurred disappointing   -0.9136\n",
            "146  org.wikipedia                                                                                                 wikipedia good appwebsite suggestion mobile websiteapp im sure would benefit many article begin hyperlinked list section subsection one get desired section immediately keep scrolling wiki often used like reference book longer collection article one start reading top suggestion would esp useful mobile accesors scrolling involved    0.9382\n",
            "147  org.wikipedia                                                                                                                                                                                                                                                                                        everything good except flaw sometimes close app reopen reopen page closed ago annoying flaw display content wikimedia category use browser instead    0.0516\n",
            "148  org.wikipedia                                                                                                                                                                                                                                                                                                                                                                                             refered wikipedia note actually nice platform    0.4215\n",
            "149  org.wikipedia                                                                                                                                                                                                                                                                                                                                                                                       wikipedia best source research recent history event    0.6369\n",
            "150  org.wikipedia                                                                                                                                                                                                                                                                                                                                                                                                    application helpful homework also free    0.7269\n",
            "151  org.wikipedia                                                                                                                                                                                                                                                                                                                                                                                                           dont app wiktionary would great    0.6249\n",
            "152  org.wikipedia                                                                                                                                                                                                                                                                                                                                                                                                       informative app diverse information    0.0000\n",
            "153  org.wikipedia                                                                                                                                                                                                                                      good last week black mode stopped working right viewing article opposed home screen article showing strange formatting white background light blue font forrmatting ok light mode thats hard old eye    0.2500\n",
            "154  org.wikipedia                                                                                                                                                functionally similar browser experience le intuitive wikipedia reputable deserves overhaul wonderful like app discord weird try get tab screen home tab big preview vague represent looked article link preview sometimes vague previewing parent article instead relevant portion fetched    0.2500\n",
            "155  org.wikipedia                                                                                                                                                                                                      best user interface functionality app ive ever used many convenient feature smooth finish many customizationtheme option available never issue app slow desperately need return home page button youre knee deep rabbit hole article    0.3818\n",
            "156  org.wikipedia                                                                                        love app love wikipedia far better searching wikipedia article browser mobile easy use inpage seach function particularly useful well quick introduction piece would normally able access hovering link pc laptop quick edits pretty good im bored might steamroller couple image caption article description also enjoy reading main page morning    0.9798\n",
            "157  org.wikipedia                                                                                                                                                                                                                                                                      brilliant really new swipe left content menu horrible clunky doesnt always swipe first time doesnt swipe back press tiny sliver remaining screen get rid wasnt broke    0.3883\n",
            "158  org.wikipedia                                                                                                                                                                                             imagine modern library alexandria pocket come dark mode completely free wikipedia app streamlined portable experience allows read snippet hyperlink article get instant definition word multiple tab open save entire article device internet    0.7778\n",
            "159  org.wikipedia                                                                                                                                                                                                                                                                                                                                                                                                   google translate within app doesnt work    0.0000\n",
            "160  org.wikipedia                                                                                                                                                                                                                              experience really making mad keep giving code saying im known someone abused site way wont explain may see allegedly done love site started happening smh ai isnt smart seems done nothing deserve shut code   -0.5770\n",
            "161  org.wikipedia                                                                                                             wikipedia app nearly best app world give motivation discover thing random google search app still fifty-nine page opened tab manager wich read think app really good thing could get better dark mode sometimes get annoying read greylike coulour background text think could give option theme user get comfortable reading    0.9230\n",
            "162  org.wikipedia                                                                                                                                                                                                                                                                                                                                                                                       good place find information anything also free good    0.8442\n",
            "163  org.wikipedia                                                                                                                                                                                                                                         like person said truly mobile app many feature wikipedia online like randomizer new article picture day new news section wikipedia app versatile easy use clear informative interesting thank app    0.9485\n",
            "164  org.wikipedia                                                                                                                                         order get setting hve back current page doesnt make sense main menu always available ten tab open time dont want forced go away page every time want go setting history option nly available main page also another weird thingbug new tab open webview iframe thing instead themed inapp version    0.2163\n",
            "165  org.wikipedia                                                                                                                                                                                                                                   new design horrible particularly new swipe left menu text small far apart ugly circle guide awful doesnt pull smoothly one motion cant swipe right get rid tap small part screen thats still left awful   -0.9153\n",
            "166  org.wikipedia                                                                                                                      miss old wiki remember could look artist see gallery work stuff like picture hidden really awful way moving functional information like graph chart different page link want see discography band might first thing want know new wikipedia somewhere else drama main page really dislike look like wont change back    0.1475\n",
            "167  org.wikipedia                                                                                                                                                                                                                                                  good thing app like fact save wikipedia page list unable access unless open page close tab manually open history list well launch page selection suggested wikipedia page including read    0.8658\n",
            "168  org.wikipedia                                                                   everything man could need wikipedia free online encyclopedia anyone edit within app beautiful sleepless night turned app read one full article specifically one alien film series dropped like rock afterwards entering peaceful slumber information could possibly need information isnt write article give knowledge world become new prometheus one thousand ten app    0.9169\n",
            "169  org.wikipedia                                                                                                                                                                                                                                 opening certain section app eg episode summary tv show text box slightly wider screen meaning swipe screen back forth every line really frustrating bug would good fix text autofitted screen device used    0.2040\n",
            "170  org.wikipedia                                                                                                                                                                                                             absolutely amazing app greatly worsened latest update new ui table content quite bad seem ditched simplicity aesthetic design much le practical five star app developer revert back prior design worked well need replacement   -0.2006\n",
            "171  org.wikipedia                                                                                                                                                                                                                                                                                                                                                                                    knowledgeable app trace information topic around world    0.0000\n",
            "172  org.wikipedia                                                                                                                                         isnt encyclopedia farleft propaganda machine written people cant read research whose propaganda protected edited actual historical fact wikipedia ever source reliable information since inception constantly filled lie easily disprovable information rely wikipedia factual information pityed    0.6174\n",
            "173  org.wikipedia                                                                                                                                                                                                                                                                                                                                                                                     love app worth downloading get information tip finger    0.7269\n",
            "174  org.wikipedia                                                                                                                                                                                                                                                                                                                                                                                                           much better information station    0.4404\n",
            "175  org.wikipedia                                                                                                                                                                        tragic blatant dishonesty shameful bias completely undermined wonderful resource promise internet look talk page get edited obscure record valid topical concern expressed regarding content reiterate look history edits talk page see dishonest wikipedia become   -0.7792\n",
            "176  org.wikipedia                                                                                                                                                                                                                                                                                                                                                                    latest update ruined bottom page popup click link page read bad change   -0.7650\n",
            "177  org.wikipedia                                                                                                                                                                                                                             second time app refused open new tab apparently accept uninstall lose tab reinstall every issue many tab delete many tab want open new tab like theme bookmarking serifsansserif option good app besides flaw    0.5267\n",
            "178  org.wikipedia                                                                                                                                                                                        great app used year easy use interface read wikipedia however loses star place tab anymore present io often use passenger long car journey pointing interesting feature family albeit often annoyance pretty sure used present android please back    0.9169\n",
            "179  org.wikipedia                                                                                                                                                                                                                 wont let make account apparently ip address blocked therefore cant register account edit ip address included range ip address blocked calculation something idk could try fix shouldnt troubleshoot ip issue make account   -0.6360\n",
            "180  org.wikipedia                                                                                                                                                                                                                                                                        latest update new update cant open image article see grey box article annoying frustrating please restore older version excellent user interface completely ruined   -0.1513\n",
            "181  org.wikipedia                                                                                                                                                                                                                                                                last month automatic update saved page hundred deleted first thought due started saving afresh time newly saved page kept deleting regularly hope new update address issue    0.8176\n",
            "182  org.wikipedia                                                                                                                                                                                                                                                                                                                                             usually read wikipedia relax time like wikipedia read lot something like history love history    0.9022\n",
            "183  org.wikipedia                                                                                                                              app good web browser version since app show info subject missing key linksheading get info ie searching television season multiple season unable go specifically season page see individual episode even though web browser version link season season list heading show app version therefore uninstall app    0.1779\n",
            "184  org.wikipedia                                                                                                                                                                                         app great last update since feature find specific word page disappeared addition half image come instead saying image couldnt drawn article never come instead showing process brought though quite often doesnt progress past stage disappointed   -0.3603\n",
            "185  org.wikipedia                                                                                                                                                                                                    never write app review good enough make want voice appreciation seventy-two tab open take precisely left reading quick seamless transition link intuitive design good source preview system regret year reading article mobile browser    0.7650\n",
            "186  org.wikipedia                                                                                                                                                                                                                                                                                                                                                                                                                    informative site world    0.0000\n",
            "187  org.wikipedia                                                                                                                                                                       using wikipedia app two year ive encountered problemfirst want read article savedsometimes doesnt load alland tell connected internet even though already downloaded ittwo successfully load page photo thats loadedso dont really know context description picture    0.5423\n",
            "188  org.wikipedia                                                                                                                                                                                                    really good app access wikipedia article concern issue list alternate color showing text dark mode text turn white highlighted read dark mode background white white white text see clearly track list album app dark mode hasnt fixed    0.7089\n",
            "189  org.wikipedia                                                                                                                                                                                                  rating app wikipedia whole good one offer easy navigation panel article bad one app loses internet connectivity apparent reason even apps connect internet two page keep information offline technically use app better live web browser    0.3400\n",
            "190  org.wikipedia                                                                                                                       oh used happen latest update back following wikipedia link google chrome force wikipedia overwrite latest opened tab kept silently losing opened tab closing temporary article thinking new independent tab spend much time cycling reading history recover least read update issue finally fixed wait month though   -0.3818\n",
            "191  org.wikipedia                                                                                                                            app nice read article offline save text export read tt even select share present cripple app making dead end people collect information later reference better use firefox select share file read tt copy paste work information offline stuck using precious data wikipedia app cant use anywhere else device    0.8271\n",
            "192  org.wikipedia                                                                                  hello wikipedia using wikipedia android app since last six month found app awesome especially article saving popup dialogue link clicked article functionality would like suggest additional functionality highlighting text sentence paragraph wikipedia mobile app facilitate student researcher general reader easily go highlighted text saved artic    0.9022\n",
            "193  org.wikipedia                                                                                                                                                                                                                                                                         wikipedia app really necessary app like dark mode still find choosing open browser version instead app lack drop format article requires way much scrolling thats   -0.1621\n",
            "194  org.wikipedia                                                                                                                    recommendation better experience app mobile phone one scroll article menu bar present disappear bar covered content would great also remove bar icon date time battery etc two increasing use mobile phone laptop tab facing issue eye strain eye strain could reduced stop using blue color hyper link blue color bad   -0.0000\n",
            "195  org.wikipedia                                                                                                                       issue external link list category app pretty good part love offline reading love easy use often use category wikipedia app removed page categorywhatever list make app harder use well often check external link check primary source read original article link either broken disabled cant change feature setting    0.9531\n",
            "196  org.wikipedia                                                                                                                                                                                                                              obviously wikipedia wikipedia love hate said app pretty slick really dont like static search bar top pagesarticles removed get press search button bottom bar brain hasnt got memo still try drag every time    0.2986\n",
            "197  org.wikipedia                                                                                               oct twenty-nine update removed one essential feature wikipedia hierarchical display table content content listed reference heading subheading heading result long article table content little use due low readability please reintroduce hierarchical display table content critical feature navigation essential getting overview article   -0.2111\n",
            "198  org.wikipedia                                                                                                         frustrating cant copy link url current page im top right button share via show bunch apps clipboard option embedded link right clicked link copied clipboard impossible copy current article link clipboard one work around go different article embeds link article want link use right click option thats ludicrous work around   -0.2732\n",
            "199  org.wikipedia                                                                                                                                                                                                                                                 love app made researching lot easier user friendly letting edit article save read later anything issuessuch able delete reading list relatively inconsequential dont let stop downloading    0.9359\n",
            "200  org.wikipedia                                                                                                                                                                                                                                                                             good app still need include sorting functionality come table data need ability sort column like wikipedia desktop browser also image arent displayed grey box    0.7616\n",
            "201  org.wikipedia                                                                                                                                                                                                                         working past couple day say cant connect check internet even though phone connected wifi apps working fine really great app use quite lot recent issue causing lot inconvenience please look matter asap thankyou    0.7264\n",
            "202  org.wikipedia                                                                                                                                                                                                                                                              please return tab button bottom five button useless nobody need change theme everybody need switch tab often app unusable one hand tab bottom possible browse one hand thank    0.8126\n",
            "203  org.wikipedia                                                                                                                                                                                                                           really like app though suggestion guy could yall please add highlighting option many time im project stuffon phone get confused line reading highlighter option could easily highlight stuff wanted write thank    0.8439\n",
            "204  org.wikipedia                                                                                                                                                                                                                                                app good however browsing article list includes reference picture ie military equipment country shrink image image list fully loaded please fix feature may convenienced browse page thank    0.7893\n",
            "205  org.wikipedia                                                                                                                         could five star app opinion missing useful feature would love ability highlight leave postit part use app educational app enrich knowledge learn new information could highlight word article read would great also implementing feature hard simply downloads page add article highlight saveddownloaded article    0.9509\n",
            "206  org.wikipedia                                                                                                                                                                                                                                                                          great app learn stuff wwi wwii nazi germany cold war bombing japan dday much adfree free save one thing view offline like field trip take much storage recommend    0.8807\n",
            "207  org.wikipedia                                                                                                                                                                                                                    day getting message content cant loaded offline even updating app latest version helping frustrating help android version marshmallow edit changed rating run fine work still issue black theme text visible hope look    0.7244\n",
            "208  org.wikipedia                                                                                                                                          instrument learning essentially free never required prioritize quality app break convention much ease simplicity utilitarian elegance design landing page translation guide described five hundred character suffice say among best mankind achievement fifty-five intellectual orgasm everytime    0.9468\n",
            "209  org.wikipedia                                                                                                                                                                                                              excellent ui flawless execution love ux dark ui plus using scroll bar image viewing plus article day trending amazing wish tab scrollable instead tapping like old ui cool work great thanks lot making wonderful experience    0.9864\n",
            "210  org.wikipedia                                                                                                                                                                                                                                                  prefer using web browser keep list open separate tab compare switching tab app keep closing cant really see benefit using app also editing mobile annoying due size otherwise fine guess   -0.5553\n",
            "211  org.wikipedia                                                                                                                                                                     unrelated update two thousand twenty-two embedded equation invisible dark mode released update ruined fixed ruined whenever try go back page previous article reading instead kick front page go history get back article wanted clunky annoying improve rating fixed   -0.7184\n",
            "212  org.wikipedia                                                                                    great app like research often ive always used wiki jumpof point learning something fact need verified ive already got information confirm seldom mislead usually give good starting point continued reach whether online library like wikipedia use frequently like quick reference whatever app much convenient using browser every time light simple    0.9274\n",
            "213  org.wikipedia                                                                                                                                                                                                               happened map feature could see wikipedia entry near location super useful traveling exploring different place venturing different part neighborhood would guy remove feature made sense mobile version wikipedia make sense    0.7783\n",
            "214  org.wikipedia                                                                                                                                                                                                                                      love wikipedia app except recent update made much difficult use new tab format poorly placed bottom screen floating window accidentally clicked constantly usability testing done please change back    0.3818\n",
            "215  org.wikipedia                                                                                                                                                                                                                                                                             app always bothersome search bar disappearing split second opening app search function isnt even accessible article would bug test update seems obvious thing   -0.3182\n",
            "216  org.wikipedia                                                                                                                                                                                                                                                                  good app biggest issue image show correctly dark mode example rare unsupported character hieroglyph shown image rendering support black character blend black background    0.4404\n",
            "217  org.wikipedia                                                                                                             hi wiki admire app heartly wiki read phenomenon current phenomenon im reading get built upon sort like somw family plant genrality organic compound branch certain subset plant animal certian cell feature want system save file desired want save somelist read later make list grid type picture label right imagefront ty    0.9545\n",
            "218  org.wikipedia                                                                                                                                                                                                                              use wikipedia everyday donate regularly app useful giving access information wherever current version seems developed issue trying view image return page available message happens device please could look    0.7650\n",
            "219  org.wikipedia                                                                                                               app good however there problem number death case recovery covid19 pandemic page number like worldometer website even let edit page please beg guy correct covid19 case number cause wikipedia one online source timeplease im begging guy one time thats message ok like change little bit page im greatly satisfied though    0.8313\n",
            "220  org.wikipedia                                                                                                                                                                                                                                                           wikipedia great app like research often give good starting point continued reacg wether online library nice compact design especially liked many option theme changing use time    0.9371\n",
            "221  org.wikipedia                                                                                                                                                                                                                               decent app albeit fact generally end using browser freeze startup error globe image fact totally locked phone first multiple lock unlocks finally allowed get desktop running android ten oneplus seven pro   -0.3612\n",
            "222  org.wikipedia                                                                                                                                                                                      please add translation plugin like chrome select text menu offer translate google translator plus translation apps added ie multitran important people read lot article non native language shouldnt difficult since implemented browser book reader    0.7724\n",
            "223  org.wikipedia                                                                                                                                                                                                                                 great app wikipedia especially appreciate home page widget like day current event searching browsing smooth id appreciate better compatibility nonstandard page list portal etc ability sort table column    0.9476\n",
            "224  org.wikipedia                                                                                                                                                                                                                                                        really good app wish setting turn swipe open table content make scrolling horizontally within table little tricky least wish swipe zone closer right edge screen rather everywhere    0.5841\n",
            "225  org.wikipedia                                                                                                                                                                                                                                                                                    think show image feature working expected tried enabled disabled resulted image shown article however work perfectly explore feed hope itll fixed soon    0.7964\n",
            "226  org.wikipedia                                                                                                           best app ever made global standard information anyone could read article topic read historical event wikipedia non profit organization ad disturb reading article user also edit article mistake also space go one hundred mb clear cache space come back two thousand , two hundred twenty-four mb probably best app ever seen    0.8689\n",
            "227  org.wikipedia                                                                                                                        still two hundred one thousand , seven hundred ten version app im older phone jellybean recently saying error occured whenever try load page even one saved idk happened sad unusable great app ui actually trained using firefox instead chrome jellybean thereby became safety requirement thank work help world    0.8271\n",
            "228  org.wikipedia                                                                                                                                                                                                                                               put three start dark mode see info table like bracket sport appear color background allow see anything sort table way desktop webpage sorting table useful feature mobile version wikipedia    0.7430\n",
            "229  org.wikipedia                                                                                                                      pro really great app alot feature website exploring feature give suggestion certain article ad free zone fundraising app customizable allows save article user create list favorite wiki article exploring feature give suggestion con storage could problem device insufficient stoarge good device lot wiggle room    0.9538\n",
            "230  org.wikipedia                                                                                                                                                                                           whenever search something google click wikipedia link redirects app show article split second simply disappears left previous open article article tried opening nowhere found make extremely annoying read article search within wikipedia app   -0.6590\n",
            "231  org.wikipedia                                                                                                                                                                                                                                                                               experience great far one issue change theme default one open wiki page football club home away third color kit loading quick fact section idk app phone old    0.5719\n",
            "232  org.wikipedia                                                                                                                                  incorrectly caching image article rely frequent update data graph app show cached image manually clear cache preview image update upon tapping cached one loaded instead current one month later anyone another bug clicking link google open app article last viewed articletab case last several month    0.3818\n",
            "233  org.wikipedia                                                             everlasting search written spoken implied obtuse venacular definitive suggestive definitive word phonetic expressive work art withstood test trial time one lasted grown changed always improved fact finder since net born pretty much always perfect every way benchmark giant internet lore may stand forever strive put forth noble effort perfection rock wiki baby rock    0.9493\n",
            "234  org.wikipedia                                                                                                                                                                                                                               hi wikipedia problem hurricane article bar stating category hurricane dark mode black instead color hurricane blueyellowred wondering could change back tell u change back specific article everything fine   -0.2263\n",
            "235  org.wikipedia                                                                                                                                                                                                                                                                         even amazing website many feature feature easy accesswikipedia officially become entertainmenteducationreference source want able open search result link new tab    0.7906\n",
            "236  org.wikipedia                                                                                                                                                                                                                                                     cant imagine loving wikipedia already wait til learn use feature would ask maybe could occasionally remind one several tab open worst consumes data memory brings joy every day thank   -0.2373\n",
            "237  org.wikipedia  think biggest turn wikipedia shifted place rely accurate information many entity company using way promote leaving bad information try update wiki page wont post even slightly negative word wikipedia become platform whose motto cant say anything nice dont say anything lot information wikipedia filtered politically correct paint accurate picture still use science type stuff anything remotely political history etc accurate   -0.7676\n",
            "238  org.wikipedia                                                                                                                                                                    problem app didnt even pas log screen forgot wikipedia password entering wrong password twice clicking forgot password say blocked dont want create new account made several edits using account there way log previous account always say blocked horrible experience   -0.9265\n",
            "239  org.wikipedia                                                                                                                               look like guy skimped beta testing tab s2 a7 j6 a10 newstyle history listing fails appear within active tab home tapping search switch search box immediately without waiting second tap history doesnt get chance display selecting search tab chooser menu produce correct behaviour maybe trouble button   -0.2593\n",
            "240  org.wikipedia                                                                                                                                                                                                                    perfect youre always one saying huh idk let google make accessing info quickly super easy intuitive also tab custom skin make taking deep dive easier already loved wikipedia app give love go entertainment road trip    0.9744\n",
            "241  org.wikipedia                                                                                                                                                                                                                                                                             really usually amazing app love simplicity clean new table content drawer horrible old one wasnt cool looking way simpler informative new one scroll way much    0.7591\n",
            "242  org.wikipedia                                                                                                                                                                             bringing encyclopedia wikipedia browser mobile app would surely always card happy say find useful easy use preferring use app searching web browser much efficient enjoyable use way keep good work guy keep providing world source information sorely needed    0.9638\n",
            "243  org.wikipedia                                                                                                                                                                                app fantastic small suggestion right handed person right side screen used scrolling however scroll right side article open table content since table content also useful option scroll either right left side screen open option could chosen user setting    0.7579\n",
            "244  org.wikipedia                                                                                                                                                                                         id love option allows hide button next every section header ive never edited wikipedia article dont feel competent enough grasp written language keep accidentally hitting useless many wikipedias user simple onoff switch setting would suffice   -0.3944\n",
            "245  org.wikipedia                                                                                                                                                  navigation bit flimsy sometimes since portion page may load thus swipe right get content tbh didnt know thing accident gripe lot imagesspecial text render horribly using dark theme tap image briefly view since background temporairly change white back black pls give dark mode love    0.5653\n",
            "246  org.wikipedia                                                                                                                                                                                phone find better use wikipedia internet app app internet expand whichever section want read using list section like table content app section already expanded without table content suggest inserting table content like desktop site collapsing section    0.8074\n",
            "247  org.wikipedia                                                                                            wld give forty-five star possible dis app really good u open multiple tab save download article u want read later offline thouroughly recommend dis app however ti completely perfect click certain image want view doesnt show photo take first photo article note doesnt happen image also wld great wikipedia downloaded image article save    0.9707\n",
            "248  org.wikipedia                                                                                                                                                                                                                                            extremely easy use especially navigation concerned reading article also easy love ability edit grammaticatechnical mistake see article uncommonly necessary however useful feature done wonder    0.9200\n",
            "249  org.wikipedia                                                                                                                                                                              used good app getting worse every release opening image cause couldnt draw image error opening article new tab sometimes working open existing tab instead today explore feed got empty least galaxy s10 really feel im going start using webversion instead    0.0665\n"
          ]
        }
      ],
      "source": [
        "# Initialize Vader\n",
        "analyzer = SentimentIntensityAnalyzer()\n",
        "\n",
        "# Analyze sentiments using Vader\n",
        "vader_sentiments = []\n",
        "\n",
        "#This is for printing sample\n",
        "for review in preprocessed_reviews[:250]:\n",
        "    vader_polarity = analyzer.polarity_scores(review)['compound']\n",
        "    vader_sentiments.append(['org.wikipedia', review, vader_polarity])\n",
        "\n",
        "# Convert to DataFrame\n",
        "vader_df = pd.DataFrame(vader_sentiments, columns=['Package Name', 'Review', 'Polarity'])\n",
        "\n",
        "# Display the results\n",
        "print(\"\\nVader Sentiments:\")\n",
        "print(vader_df.to_string(index=True))\n",
        "\n",
        "for review in preprocessed_reviews:\n",
        "    vader_polarity = analyzer.polarity_scores(review)['compound']\n",
        "    vader_sentiments.append(['org.wikipedia', review, vader_polarity])\n",
        "\n",
        "#This is for storing all the reviews\n",
        "for review in preprocessed_reviews[:250]:\n",
        "    vader_polarity = analyzer.polarity_scores(review)['compound']\n",
        "    vader_sentiments.append(['org.wikipedia', review, vader_polarity])\n",
        "\n",
        "vader_df = pd.DataFrame(vader_sentiments, columns=['Package Name', 'Review', 'Polarity'])\n"
      ]
    },
    {
      "cell_type": "markdown",
      "metadata": {
        "id": "47b1MJhG-iTJ"
      },
      "source": [
        "Now, both the sentiment analysis tools are compared here in the code below.\n",
        "At first the below output console will print the numerical comparison between them and then we will discuss their comparison after that.\n",
        "\n",
        "The code looks at reviews and gives them a score between -1 (very negative) and 1 (very positive).\n",
        "Since Play Store ratings are from 1 to 5, the code divides the range -1 to 1 into five parts. Each part matches a Play Store rating (1 to 5).\n",
        "\n",
        "Here (map_polarity_to_rating) function in the code takes a score from TextBlob or Vader and changes it into a rating from 1 to 5, like in the Play Store. For example, a really negative score (-1 to -0.600001) turns into a rating of 1, and a really positive score (0.600000 to 1) becomes a rating of 5. Comparing TextBlob and Vader Scores:\n",
        "\n",
        "If TextBlob's score is higher than Vader's, it counts one point in textblob_higher. If Vader's score is higher, it counts one point in vader_higher. If both scores are the same, it adds a point to same_polarity.\n",
        "In simple terms, the code turns the review scores from TextBlob and Vader into Play Store-like ratings and then checks to see which tool gives higher or the same scores for the reviews.\n",
        "\n",
        "And then the results are printed."
      ]
    },
    {
      "cell_type": "code",
      "execution_count": 37,
      "metadata": {
        "colab": {
          "base_uri": "https://localhost:8080/"
        },
        "id": "fhmifIXbuRyJ",
        "outputId": "a20e7036-eacb-485f-91ee-2c90d5d36c91"
      },
      "outputs": [
        {
          "name": "stdout",
          "output_type": "stream",
          "text": [
            "TextBlob higher than Vader: 1226\n",
            "Vader higher than TextBlob: 3693\n",
            "Same polarity: 81\n",
            "TextBlob close to actual rating: 867\n",
            "Vader close to actual rating: 1573\n"
          ]
        }
      ],
      "source": [
        "# Function to map polarity to Play Store rating equivalence\n",
        "def map_polarity_to_rating(polarity):\n",
        "    if -1 <= polarity <= -0.600001:\n",
        "        return 1\n",
        "    elif -0.600000 <= polarity <= -0.200001:\n",
        "        return 2\n",
        "    elif -0.200000 <= polarity <= 0.199999:\n",
        "        return 3\n",
        "    elif 0.200000 <= polarity <= 0.599999:\n",
        "        return 4\n",
        "    elif 0.600000 <= polarity <= 1:\n",
        "        return 5\n",
        "\n",
        "# Variables to count comparisons\n",
        "textblob_higher, vader_higher, same_polarity = 0, 0, 0\n",
        "textblob_close_to_rating, vader_close_to_rating = 0, 0\n",
        "\n",
        "for index, row in df.iterrows():\n",
        "\n",
        "\n",
        "    textblob_polarity = textblob_df.iloc[index]['Polarity']\n",
        "    vader_polarity = vader_df.iloc[index]['Polarity']\n",
        "    actual_rating = row['Rating']\n",
        "\n",
        "    # Comparing polarity scores\n",
        "    if textblob_polarity > vader_polarity:\n",
        "        textblob_higher += 1\n",
        "    elif vader_polarity > textblob_polarity:\n",
        "        vader_higher += 1\n",
        "    else:\n",
        "        same_polarity += 1\n",
        "\n",
        "    # Comparing polarity to actual rating\n",
        "    if map_polarity_to_rating(textblob_polarity) == actual_rating:\n",
        "        textblob_close_to_rating += 1\n",
        "    if map_polarity_to_rating(vader_polarity) == actual_rating:\n",
        "        vader_close_to_rating += 1\n",
        "\n",
        "# Print results\n",
        "print(f\"TextBlob higher than Vader: {textblob_higher}\")\n",
        "print(f\"Vader higher than TextBlob: {vader_higher}\")\n",
        "print(f\"Same polarity: {same_polarity}\")\n",
        "print(f\"TextBlob close to actual rating: {textblob_close_to_rating}\")\n",
        "print(f\"Vader close to actual rating: {vader_close_to_rating}\")\n"
      ]
    },
    {
      "cell_type": "markdown",
      "metadata": {
        "id": "OmDmGwpPBbLx"
      },
      "source": [
        "Here above we can see the numerical comparison between TextBlob and Vader. Now let's discuss them below:\n",
        "\n",
        "TextBlob higher than Vader (1226 times): TextBlob gave higher scores to some reviews than Vader did. This might suggest TextBlob notices more positive things in these reviews than Vader.\n",
        "\n",
        "Vader higher than TextBlob (3693 times): Vader gave higher scores to a lot more reviews than TextBlob. This might suggest Vader sees more positive stuff in these reviews or maybe it's a bit too positive compared to TextBlob.\n",
        "\n",
        "Same score (81 times): In a few reviews, both TextBlob and Vader gave the same scores. Since this didn't happen a lot, it shows they usually don't agree on how positive or negative a review is.\n",
        "\n",
        "TextBlob close to actual ratings (867 times): In these cases, TextBlob's scores were similar to what people actually rated on Google Play. This means TextBlob did a good job guessing how people felt in these reviews.\n",
        "\n",
        "Vader close to actual ratings (1573 times): Vader's scores matched the actual Google Play ratings more often than TextBlob's did. This suggests that Vader might be better at understanding how people feel in their reviews, at least for the reviews we looked at.\n",
        "\n",
        "\n",
        "\n",
        "\n"
      ]
    },
    {
      "cell_type": "markdown",
      "metadata": {
        "id": "hy_xsoRnGOQj"
      },
      "source": [
        "TASK4: SUPERVISED LEARNING\n",
        "\n",
        "First a Random Forest classifier is designed to identify whether a user review is a feature request or not. The console prints the accuracy first and then it also prints first 20 Reviews and Predictions on the Wikipedia SUD. It also prints 2 reviews Predicted as Feature Request so that we can use this data for later analysis."
      ]
    },
    {
      "cell_type": "code",
      "execution_count": 40,
      "metadata": {
        "colab": {
          "base_uri": "https://localhost:8080/"
        },
        "id": "NQ2HsRbn3VlT",
        "outputId": "8ab525e8-cd63-4dcd-804e-3e563b169dd7"
      },
      "outputs": [
        {
          "name": "stdout",
          "output_type": "stream",
          "text": [
            "Accuracy for Feature Request Classifier: 0.9548022598870056\n",
            "First 20 Reviews and Predictions on the Wikipedia SUD:\n",
            "Review: even frequent user wikipedia totally unaware existence app discovering searched whim app overall excellent random article button offer dangerous game play plan productive ability easily curate personal collection article nice gripe far apparent lack return main page button fall rabbit hole ready click back button lot, Rating: 5, Predicted Category: Not Feature Request\n",
            "Review: offline usage sd storage great interface one annoying flaw incredibly easy accidentally delete offline page several occasion attempted tap article ever slightly swiped little side time deletes page dosent ask confirmation rather remove page blink eye although allow undo page downloaded, Rating: 4, Predicted Category: Not Feature Request\n",
            "Review: better update made clumsy difficulttonavigate word developer text run right rightside border leftright movement im constantly sliding apps page left read end sentence looking like wellcrafted new tabbing yuk somewhat poor term usability ive seen guy better know im donor maybe give listen, Rating: 3, Predicted Category: Not Feature Request\n",
            "Review: truly love wikipedia app suddenly crowned feature place tab missing version feature placed nearby article interactive map helped navigate new city turned world museum loved necessary cant life figure itd removed light lost life hence dim star rating itd five star without suffering, Rating: 1, Predicted Category: Not Feature Request\n",
            "Review: edit issue longer happening app run great app usually fantastic ill happily increase rating five recent issue resolved since recent update app repeatedly say isnt responding working fine wont stop quit even go home screen open another program error message keep coming, Rating: 5, Predicted Category: Not Feature Request\n",
            "Review: app great offer far superior experience browsing wikipedia mobile browser two small ui improvement needed one scrolling table left unintentionally trigger rightside page content gesture make annoying navigate wide table two app closed least one tab open reopened start screen load first tab unless touch tab counter button tab lost, Rating: 4, Predicted Category: Not Feature Request\n",
            "Review: great well made app probably favorite app phone right create reading list different subject available offline furthermore reading article clicking highlighted word give summary overlay popup doesnt pull away current article however go full article desire app wikipedia general one silver lining attrocious noise internet apps become, Rating: 5, Predicted Category: Not Feature Request\n",
            "Review: im basing rating wikipedias political bias annoying new search actually open new page instead replacing current one im deleting app doesnt support find page viewing make web browser much useful app adding function editing code already implemented force viewer scan whole article, Rating: 3, Predicted Category: Not Feature Request\n",
            "Review: newest version may two thousand nineteen practically unusable highly frequent crashing particularly trying save article reading list force app restart end losing reading annoying especially considering hadnt experienced issue older version please fix app otherwise fantastic one issue ruin whole experience, Rating: 1, Predicted Category: Not Feature Request\n",
            "Review: uninstalled article image embedded image tinted slightly grey make image look lowquality downgrade whole experience click image see full color take whole screen cant read second issue clicking link wiki article browser wiki app open redirects different article cache issue maybe rather deal hassle uninstalled browserbased wiki ftw, Rating: 2, Predicted Category: Not Feature Request\n",
            "Review: convenient website use lot bandwidth lot little thing get broken update like open tab link external web page audio sample stay broken reason might rate app much lower doesnt bother much, Rating: 4, Predicted Category: Not Feature Request\n",
            "Review: really like app lot wish however convenient button reloading page without losing place scroll way back english wave function page seems broken doesnt load way show full article language english reason, Rating: 4, Predicted Category: Not Feature Request\n",
            "Review: favorite app far use wikipedia mobile app perhaps second browser suggestion add way search list dialog many scroll quite bit find right one sometimes itd also nice possible access list menu explorenew tab page, Rating: 5, Predicted Category: Not Feature Request\n",
            "Review: mobile device find app interface convenient pleasant use mobile web site ive two frustration first app occasionally report internet connectivity lost even though hasnt second every time restart device login credential wikipedia deleted device app recommends login ive able determine whether o issue app issue, Rating: 4, Predicted Category: Not Feature Request\n",
            "Review: edit image wont load several day care changed rating one previous review use app every day keep making illadvised change ui nobody need smoothscrolling findinpage zoom awkwardly youre typing also table content swiping right fine way sensitivei keep swiping toc accident scrolling vertically slightly moving righttoleft, Rating: 1, Predicted Category: Not Feature Request\n",
            "Review: nearby feature removed last update favorite part app made worth using normal web browser despite seemingly longer great feature app well made versatile ui look function like able tap link seeing short overview without taken page getting choose multiple theme nice, Rating: 4, Predicted Category: Not Feature Request\n",
            "Review: intuitive app built usability mind guy nailed tab feature table content button fast scroll showing toc index much dark theme also important one suggestion id love see wiktionary implemented dont leave app would great could click wiktionary link treated wiki page open new tab preview etc anyways great work, Rating: 5, Predicted Category: Not Feature Request\n",
            "Review: serious usability issue main problem way table rendered small screen theyre difficult scroll horizontally row sorted column also editing article app trash edits without warning browser app load another article finally inability pinch zoom image drive banana, Rating: 2, Predicted Category: Not Feature Request\n",
            "Review: used wonderful application became le le functional finally longer function device began would load image uninstall reinstall fixed would longer load full sized image never could fix finally longer load anything uninstalling reinstalling longer fix four device use ever get error occurred ever fix, Rating: 1, Predicted Category: Not Feature Request\n",
            "Review: great viewing experience using app find user setting allowed desktop almost either broken next impossible find one particular issue found would save none setting specialpreferences area would allow publish commonjs file ive clue stem issue app wikipedia backend service phone incompetence part app fully updated let know please, Rating: 3, Predicted Category: Not Feature Request\n",
            "\\ 2 Reviews Predicted as Feature Request:\n",
            "Review: would like feature send highlight note book kindle including pdfs others simple good app improvement could done mobile understand relationship kindle device, Rating: 4, Predicted Category: Feature Request\n",
            "Review: kindle app important britheit supply different type book according reader necessity may poetrynovels story many type would like say simply mobile libraryit easy export import also accordingto need get easily quickly best wish kindle family thank, Rating: 5, Predicted Category: Feature Request\n"
          ]
        }
      ],
      "source": [
        "from sklearn.model_selection import train_test_split\n",
        "from sklearn.ensemble import RandomForestClassifier\n",
        "from sklearn.feature_extraction.text import TfidfVectorizer\n",
        "from sklearn.metrics import accuracy_score\n",
        "from sklearn.metrics import accuracy_score\n",
        "from scipy.sparse import hstack\n",
        "import numpy as np\n",
        "\n",
        "# Load labeled data\n",
        "labeled_df = pd.read_csv('/content/drive/My Drive/reviews_classified_lemmatized.csv')\n",
        "\n",
        "# Preprocess 'Review text' column\n",
        "labeled_df['Processed Review'] = labeled_df['Review text'].apply(preprocess_text)\n",
        "\n",
        "# Vectorize the preprocessed review text\n",
        "vectorizer = TfidfVectorizer()\n",
        "X_text = vectorizer.fit_transform(labeled_df['Processed Review'])\n",
        "\n",
        "# The 'Rating' as a feature included\n",
        "X_rating = labeled_df[['Rating']].values\n",
        "\n",
        "# Combined text features with the 'Rating'\n",
        "X_combined = hstack([X_text, X_rating])\n",
        "\n",
        "# Created binary labels for feature requests\n",
        "labeled_df['is_feature'] = labeled_df['Review category'].apply(lambda x: 1 if 'f' in x else 0)\n",
        "\n",
        "# Splitted data for training and testing\n",
        "y = labeled_df['is_feature']\n",
        "X_train, X_test, y_train, y_test = train_test_split(X_combined, y, test_size=0.3, random_state=42)\n",
        "\n",
        "# Training Random Forest classifier\n",
        "rf_classifier = RandomForestClassifier()\n",
        "rf_classifier.fit(X_train, y_train)\n",
        "\n",
        "# Predict and evaluate\n",
        "y_pred = rf_classifier.predict(X_test)\n",
        "print(\"Accuracy for Feature Request Classifier:\", accuracy_score(y_test, y_pred))\n",
        "\n",
        "#Rating for the app_reviews\n",
        "csv_rating = df['Rating'].tolist()\n",
        "\n",
        "# Vectorize the new review texts using the same vectorizer\n",
        "X_new_text = vectorizer.transform(preprocessed_reviews)\n",
        "\n",
        "# Extract the ratings for the new reviews\n",
        "X_new_rating = np.array(csv_rating).reshape(-1, 1)\n",
        "\n",
        "# Combine text features with the ratings\n",
        "X_new_combined = hstack([X_new_text, X_new_rating])\n",
        "\n",
        "# Predict with the trained classifier\n",
        "new_predictions = rf_classifier.predict(X_new_combined)\n",
        "\n",
        "# Output the first 20 reviews and their predictions\n",
        "print(\"First 20 Reviews and Predictions on the Wikipedia SUD:\")\n",
        "for i in range(20):\n",
        "    category = 'Feature Request' if new_predictions[i] == 1 else 'Not Feature Request'\n",
        "    print(f\"Review: {preprocessed_reviews[i]}, Rating: {csv_rating[i]}, Predicted Category: {category}\")\n",
        "\n",
        "# Find and print the first review predicted as Feature Request\n",
        "print(\"\\ 2 Reviews Predicted as Feature Request:\")\n",
        "j = 0\n",
        "for i in range(len(preprocessed_reviews)):\n",
        "    if new_predictions[i] == 1:\n",
        "        print(f\"Review: {preprocessed_reviews[i]}, Rating: {csv_rating[i]}, Predicted Category: Feature Request\")\n",
        "        j = j + 1\n",
        "        if j == 2:\n",
        "          break\n"
      ]
    },
    {
      "cell_type": "markdown",
      "metadata": {
        "id": "1SCol8G0RYMp"
      },
      "source": [
        "Then a Random Forest classifier is designed to identify whether a user review is a bug review or not. The console prints the accuracy first and then it also prints first 20 Reviews and Predictions on the Wikipedia SUD. It also prints 2 reviews Predicted as Bug Review so that we can use this data for later analysis."
      ]
    },
    {
      "cell_type": "code",
      "execution_count": 41,
      "metadata": {
        "colab": {
          "base_uri": "https://localhost:8080/"
        },
        "id": "vI4NIGGUPCaV",
        "outputId": "360c1595-e3f5-4565-8cea-e685c0ac75e9"
      },
      "outputs": [
        {
          "name": "stdout",
          "output_type": "stream",
          "text": [
            "Accuracy for Bug Review Classifier: 0.8813559322033898\n",
            "First 20 Reviews and Predictions on our SUDs:\n",
            "Review: even frequent user wikipedia totally unaware existence app discovering searched whim app overall excellent random article button offer dangerous game play plan productive ability easily curate personal collection article nice gripe far apparent lack return main page button fall rabbit hole ready click back button lot, Rating: 5, Predicted Category: Not Bug Review\n",
            "Review: offline usage sd storage great interface one annoying flaw incredibly easy accidentally delete offline page several occasion attempted tap article ever slightly swiped little side time deletes page dosent ask confirmation rather remove page blink eye although allow undo page downloaded, Rating: 4, Predicted Category: Bug Review\n",
            "Review: better update made clumsy difficulttonavigate word developer text run right rightside border leftright movement im constantly sliding apps page left read end sentence looking like wellcrafted new tabbing yuk somewhat poor term usability ive seen guy better know im donor maybe give listen, Rating: 3, Predicted Category: Not Bug Review\n",
            "Review: truly love wikipedia app suddenly crowned feature place tab missing version feature placed nearby article interactive map helped navigate new city turned world museum loved necessary cant life figure itd removed light lost life hence dim star rating itd five star without suffering, Rating: 1, Predicted Category: Not Bug Review\n",
            "Review: edit issue longer happening app run great app usually fantastic ill happily increase rating five recent issue resolved since recent update app repeatedly say isnt responding working fine wont stop quit even go home screen open another program error message keep coming, Rating: 5, Predicted Category: Not Bug Review\n",
            "Review: app great offer far superior experience browsing wikipedia mobile browser two small ui improvement needed one scrolling table left unintentionally trigger rightside page content gesture make annoying navigate wide table two app closed least one tab open reopened start screen load first tab unless touch tab counter button tab lost, Rating: 4, Predicted Category: Bug Review\n",
            "Review: great well made app probably favorite app phone right create reading list different subject available offline furthermore reading article clicking highlighted word give summary overlay popup doesnt pull away current article however go full article desire app wikipedia general one silver lining attrocious noise internet apps become, Rating: 5, Predicted Category: Not Bug Review\n",
            "Review: im basing rating wikipedias political bias annoying new search actually open new page instead replacing current one im deleting app doesnt support find page viewing make web browser much useful app adding function editing code already implemented force viewer scan whole article, Rating: 3, Predicted Category: Bug Review\n",
            "Review: newest version may two thousand nineteen practically unusable highly frequent crashing particularly trying save article reading list force app restart end losing reading annoying especially considering hadnt experienced issue older version please fix app otherwise fantastic one issue ruin whole experience, Rating: 1, Predicted Category: Not Bug Review\n",
            "Review: uninstalled article image embedded image tinted slightly grey make image look lowquality downgrade whole experience click image see full color take whole screen cant read second issue clicking link wiki article browser wiki app open redirects different article cache issue maybe rather deal hassle uninstalled browserbased wiki ftw, Rating: 2, Predicted Category: Not Bug Review\n",
            "Review: convenient website use lot bandwidth lot little thing get broken update like open tab link external web page audio sample stay broken reason might rate app much lower doesnt bother much, Rating: 4, Predicted Category: Not Bug Review\n",
            "Review: really like app lot wish however convenient button reloading page without losing place scroll way back english wave function page seems broken doesnt load way show full article language english reason, Rating: 4, Predicted Category: Not Bug Review\n",
            "Review: favorite app far use wikipedia mobile app perhaps second browser suggestion add way search list dialog many scroll quite bit find right one sometimes itd also nice possible access list menu explorenew tab page, Rating: 5, Predicted Category: Not Bug Review\n",
            "Review: mobile device find app interface convenient pleasant use mobile web site ive two frustration first app occasionally report internet connectivity lost even though hasnt second every time restart device login credential wikipedia deleted device app recommends login ive able determine whether o issue app issue, Rating: 4, Predicted Category: Not Bug Review\n",
            "Review: edit image wont load several day care changed rating one previous review use app every day keep making illadvised change ui nobody need smoothscrolling findinpage zoom awkwardly youre typing also table content swiping right fine way sensitivei keep swiping toc accident scrolling vertically slightly moving righttoleft, Rating: 1, Predicted Category: Not Bug Review\n",
            "Review: nearby feature removed last update favorite part app made worth using normal web browser despite seemingly longer great feature app well made versatile ui look function like able tap link seeing short overview without taken page getting choose multiple theme nice, Rating: 4, Predicted Category: Not Bug Review\n",
            "Review: intuitive app built usability mind guy nailed tab feature table content button fast scroll showing toc index much dark theme also important one suggestion id love see wiktionary implemented dont leave app would great could click wiktionary link treated wiki page open new tab preview etc anyways great work, Rating: 5, Predicted Category: Not Bug Review\n",
            "Review: serious usability issue main problem way table rendered small screen theyre difficult scroll horizontally row sorted column also editing article app trash edits without warning browser app load another article finally inability pinch zoom image drive banana, Rating: 2, Predicted Category: Not Bug Review\n",
            "Review: used wonderful application became le le functional finally longer function device began would load image uninstall reinstall fixed would longer load full sized image never could fix finally longer load anything uninstalling reinstalling longer fix four device use ever get error occurred ever fix, Rating: 1, Predicted Category: Bug Review\n",
            "Review: great viewing experience using app find user setting allowed desktop almost either broken next impossible find one particular issue found would save none setting specialpreferences area would allow publish commonjs file ive clue stem issue app wikipedia backend service phone incompetence part app fully updated let know please, Rating: 3, Predicted Category: Not Bug Review\n",
            "\u0002 Reviews Predicted as Bug Review:\n",
            "Review: offline usage sd storage great interface one annoying flaw incredibly easy accidentally delete offline page several occasion attempted tap article ever slightly swiped little side time deletes page dosent ask confirmation rather remove page blink eye although allow undo page downloaded, Rating: 4, Predicted Category: Bug Review\n",
            "Review: app great offer far superior experience browsing wikipedia mobile browser two small ui improvement needed one scrolling table left unintentionally trigger rightside page content gesture make annoying navigate wide table two app closed least one tab open reopened start screen load first tab unless touch tab counter button tab lost, Rating: 4, Predicted Category: Bug Review\n"
          ]
        }
      ],
      "source": [
        "# Load labeled data\n",
        "labeled_df = pd.read_csv('/content/drive/My Drive/reviews_classified_lemmatized.csv')\n",
        "\n",
        "# Preprocess 'Review text'\n",
        "labeled_df['Processed Review'] = labeled_df['Review text'].apply(preprocess_text)\n",
        "\n",
        "# Vectorize the preprocessed review text\n",
        "vectorizer = TfidfVectorizer()\n",
        "X_text = vectorizer.fit_transform(labeled_df['Processed Review'])\n",
        "\n",
        "# Include the 'Rating' as a feature\n",
        "X_rating = labeled_df[['Rating']].values\n",
        "\n",
        "# Combine text features with the 'Rating'\n",
        "X_combined = hstack([X_text, X_rating])\n",
        "\n",
        "# Create binary labels for feature requests\n",
        "labeled_df['is_feature'] = labeled_df['Review category'].apply(lambda x: 1 if 'b' in x else 0)\n",
        "\n",
        "# Split data for training and testing\n",
        "y = labeled_df['is_feature']\n",
        "X_train, X_test, y_train, y_test = train_test_split(X_combined, y, test_size=0.3, random_state=42)\n",
        "\n",
        "# Train Random Forest classifier\n",
        "rf_classifier = RandomForestClassifier()\n",
        "rf_classifier.fit(X_train, y_train)\n",
        "\n",
        "# Predict and evaluate\n",
        "y_pred = rf_classifier.predict(X_test)\n",
        "print(\"Accuracy for Bug Review Classifier:\", accuracy_score(y_test, y_pred))\n",
        "\n",
        "# Predict with the trained classifier\n",
        "new_predictions = rf_classifier.predict(X_new_combined)\n",
        "\n",
        "# Output the first 20 reviews and their predictions\n",
        "print(\"First 20 Reviews and Predictions on our SUDs:\")\n",
        "for i in range(20):\n",
        "    category = 'Bug Review' if new_predictions[i] == 1 else 'Not Bug Review'\n",
        "    print(f\"Review: {preprocessed_reviews[i]}, Rating: {csv_rating[i]}, Predicted Category: {category}\")\n",
        "\n",
        "# Find and print the first review predicted as Feature Request\n",
        "print(\"\\2 Reviews Predicted as Bug Review:\")\n",
        "j = 0\n",
        "for i in range(len(preprocessed_reviews)):\n",
        "    if new_predictions[i] == 1:\n",
        "        print(f\"Review: {preprocessed_reviews[i]}, Rating: {csv_rating[i]}, Predicted Category: Bug Review\")\n",
        "        j = j + 1\n",
        "        if j == 2:\n",
        "          break\n"
      ]
    },
    {
      "cell_type": "markdown",
      "metadata": {
        "id": "MVB2-m4HTOih"
      },
      "source": [
        "FURTHER ANALYSIS:\n",
        "\n",
        "Two recommended changes for the Wikipedia app are:\n",
        "\n",
        "Improve Offline Page Management: The reviews above, 1st Bug Review to be more specific, highlighted issues with accidentally deleting offline pages, suggesting a need for better management and confirmation prompts before deletion. This change would enhance user experience by reducing accidental data loss and providing a more robust offline usage feature.\n",
        "\n",
        "Optimize Table Navigation and UI Responsiveness: Users have reported, 2nd Bug Review to be more specific, difficulties with navigating tables and UI elements, especially on smaller screens. Improving table rendering and touch sensitivity would enhance the app's usability and accessibility.\n",
        "\n",
        "Bug Reviews are given more importance than Feature Requests as feature requests are requests without which the app can function properly. They are just requests asking for more features. Whereas, Bug Reviews are important as they suggest not normal functioning of the app.\n",
        "\n",
        "Risks and Uncertainties:\n",
        "\n",
        "Implementing these changes may require significant development effort and testing to ensure they don't introduce new bugs or usability issues.\n",
        "User preferences vary widely. Changes that benefit some users might not be well-received by others. It's important to balance feedback from a diverse user base.\n",
        "The recommendations are based on a subset of reviews, which might not represent the broader user base's needs or preferences. Additional user research and testing would be valuable to validate these changes."
      ]
    },
    {
      "cell_type": "markdown",
      "metadata": {
        "id": "qdyIsXZdWyzc"
      },
      "source": [
        "TASK 5: TOPIC MODELING Using LDA"
      ]
    },
    {
      "cell_type": "code",
      "execution_count": 42,
      "metadata": {
        "colab": {
          "base_uri": "https://localhost:8080/"
        },
        "id": "SpFxjt7JIBXb",
        "outputId": "6c37354e-3bcd-440c-bc37-19ac26f2f381"
      },
      "outputs": [
        {
          "name": "stderr",
          "output_type": "stream",
          "text": [
            "WARNING:gensim.models.ldamulticore:too few updates, training might not converge; consider increasing the number of passes or iterations to improve accuracy\n"
          ]
        },
        {
          "name": "stdout",
          "output_type": "stream",
          "text": [
            "Topic: 0 \n",
            "Words: 0.028*\"app\" + 0.018*\"book\" + 0.018*\"love\" + 0.017*\"get\" + 0.014*\"read\" + 0.010*\"audiobooks\" + 0.009*\"great\"\n",
            "Topic: 1 \n",
            "Words: 0.037*\"book\" + 0.017*\"app\" + 0.010*\"scribd\" + 0.010*\"great\" + 0.008*\"many\" + 0.008*\"month\" + 0.008*\"audio\"\n",
            "Topic: 2 \n",
            "Words: 0.044*\"book\" + 0.031*\"app\" + 0.013*\"one\" + 0.009*\"audiobooks\" + 0.008*\"ive\" + 0.008*\"two\" + 0.008*\"im\"\n",
            "Topic: 3 \n",
            "Words: 0.049*\"book\" + 0.023*\"read\" + 0.017*\"app\" + 0.011*\"audiobooks\" + 0.011*\"month\" + 0.010*\"ive\" + 0.009*\"get\"\n",
            "Topic: 4 \n",
            "Words: 0.051*\"app\" + 0.019*\"book\" + 0.011*\"use\" + 0.008*\"good\" + 0.007*\"time\" + 0.007*\"reading\" + 0.006*\"issue\"\n",
            "Topic: 5 \n",
            "Words: 0.020*\"app\" + 0.016*\"page\" + 0.010*\"read\" + 0.010*\"many\" + 0.010*\"wikipedia\" + 0.010*\"information\" + 0.007*\"best\"\n",
            "Topic: 6 \n",
            "Words: 0.043*\"app\" + 0.012*\"like\" + 0.012*\"great\" + 0.011*\"book\" + 0.008*\"would\" + 0.008*\"one\" + 0.007*\"scribd\"\n",
            "Topic: 7 \n",
            "Words: 0.021*\"book\" + 0.016*\"app\" + 0.014*\"reading\" + 0.012*\"title\" + 0.012*\"read\" + 0.011*\"great\" + 0.010*\"listen\"\n",
            "Topic: 8 \n",
            "Words: 0.026*\"book\" + 0.017*\"app\" + 0.016*\"one\" + 0.014*\"month\" + 0.011*\"kindle\" + 0.010*\"read\" + 0.009*\"like\"\n",
            "Topic: 9 \n",
            "Words: 0.038*\"app\" + 0.022*\"book\" + 0.009*\"use\" + 0.008*\"great\" + 0.008*\"article\" + 0.008*\"like\" + 0.008*\"read\"\n",
            "Topic: 10 \n",
            "Words: 0.031*\"app\" + 0.025*\"book\" + 0.016*\"like\" + 0.011*\"read\" + 0.009*\"reading\" + 0.009*\"one\" + 0.008*\"page\"\n",
            "Topic: 11 \n",
            "Words: 0.034*\"book\" + 0.026*\"app\" + 0.012*\"read\" + 0.012*\"love\" + 0.010*\"one\" + 0.010*\"available\" + 0.010*\"find\"\n",
            "Topic: 12 \n",
            "Words: 0.036*\"book\" + 0.032*\"app\" + 0.011*\"scribd\" + 0.010*\"great\" + 0.009*\"one\" + 0.008*\"ive\" + 0.008*\"subscription\"\n",
            "Topic: 13 \n",
            "Words: 0.014*\"time\" + 0.012*\"app\" + 0.011*\"service\" + 0.011*\"book\" + 0.010*\"ive\" + 0.009*\"even\" + 0.008*\"great\"\n",
            "Topic: 14 \n",
            "Words: 0.036*\"app\" + 0.009*\"find\" + 0.009*\"read\" + 0.008*\"im\" + 0.008*\"great\" + 0.007*\"book\" + 0.006*\"article\"\n"
          ]
        }
      ],
      "source": [
        "import gensim\n",
        "from gensim import corpora\n",
        "from nltk.tokenize import word_tokenize\n",
        "\n",
        "# Tokenizing the preprocessed reviews\n",
        "tokenized_docs = [word_tokenize(doc) for doc in preprocessed_reviews]\n",
        "\n",
        "# Creating a dictionary and corpus\n",
        "dictionary = corpora.Dictionary(tokenized_docs)\n",
        "corpus = [dictionary.doc2bow(doc) for doc in tokenized_docs]\n",
        "\n",
        "# Running LDA model\n",
        "lda_model = gensim.models.LdaMulticore(corpus, num_topics=15, id2word=dictionary, passes=2, workers=2)\n",
        "\n",
        "# Extract and display topics\n",
        "for idx, topic in lda_model.print_topics(-1, num_words=7):\n",
        "    print(\"Topic: {} \\nWords: {}\".format(idx, topic))\n"
      ]
    },
    {
      "cell_type": "markdown",
      "metadata": {
        "id": "4oXAGqUNW3TC"
      },
      "source": [
        "ANALYSIS OF TASK 5'S OUTPUT WITH TASK4'S OUTPUT:\n",
        "\n",
        "Manual analysis is done here as it is easier in this case.\n",
        "\n",
        "Comparison with Features: Topics about books and reading (like Topics 0, 1, 2, 3) likely correspond to reviews discussing the app's primary features, such as the availability of books, reading experience, and audiobook functionality. However, some topics might not directly align with specific features. For example, topics discussing usability or general praise (like Topics 4 and 6) are more about the overall app experience rather than specific features.\n",
        "\n",
        "Comparison with Bug Reports: The LDA topics do not seem to focus specifically on bugs or technical issues. They are more about the general use and enjoyment of the app. Bug reports, on the other hand, are specific complaints or issues users have encountered, such as app crashes or functional errors, which might not be clearly reflected in the broader themes identified by LDA.\n",
        "\n",
        "Differences in Outputs: The LDA model provides a broad overview of what users talk about, like what they like or what they find important in the app (e.g., reading experience, book availability). The classifiers are more precise, identifying specific types of feedback like feature requests or bug reports. They are more about \"what users want\" or \"what problems users face\" rather than what users generally discuss. The accuracy of the models and the amount of data they are trained on affect these insights. LDA can work with large datasets to find general patterns, while classifiers need specific labeled data to identify precise feedback types.\n",
        "\n"
      ]
    }
  ],
  "metadata": {
    "colab": {
      "provenance": []
    },
    "kernelspec": {
      "display_name": "Python 3",
      "name": "python3"
    },
    "language_info": {
      "name": "python"
    }
  },
  "nbformat": 4,
  "nbformat_minor": 0
}
